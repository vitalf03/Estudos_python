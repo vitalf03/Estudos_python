{
  "cells": [
    {
      "cell_type": "code",
      "execution_count": 1,
      "metadata": {
        "colab": {
          "base_uri": "https://localhost:8080/",
          "height": 85
        },
        "colab_type": "code",
        "id": "i92eaEWHL_tu",
        "outputId": "52829f59-6366-4518-9174-3875a7e5161d"
      },
      "outputs": [
        {
          "name": "stdout",
          "output_type": "stream",
          "text": [
            "39\n",
            "30\n",
            "27\n",
            "18\n"
          ]
        }
      ],
      "source": [
        "idade1 = 39\n",
        "idade2 = 30\n",
        "idade3 = 27\n",
        "idade4 = 18\n",
        "\n",
        "print(idade1)\n",
        "print(idade2)\n",
        "print(idade3)\n",
        "print(idade4)"
      ]
    },
    {
      "cell_type": "code",
      "execution_count": 2,
      "metadata": {
        "colab": {},
        "colab_type": "code",
        "id": "27g6sNsIMZEL"
      },
      "outputs": [],
      "source": [
        "idades = [39, 30, 27, 18]"
      ]
    },
    {
      "cell_type": "code",
      "execution_count": 3,
      "metadata": {
        "colab": {
          "base_uri": "https://localhost:8080/",
          "height": 34
        },
        "colab_type": "code",
        "id": "nMoUaGF8MmuM",
        "outputId": "892ac20e-5e48-4dab-9cf2-629877025bb4"
      },
      "outputs": [
        {
          "data": {
            "text/plain": [
              "list"
            ]
          },
          "execution_count": 3,
          "metadata": {},
          "output_type": "execute_result"
        }
      ],
      "source": [
        "type(idades)"
      ]
    },
    {
      "cell_type": "code",
      "execution_count": 4,
      "metadata": {
        "colab": {
          "base_uri": "https://localhost:8080/",
          "height": 34
        },
        "colab_type": "code",
        "id": "693125bLMoQo",
        "outputId": "017f9f29-cce5-422d-bd86-5f19775019f9"
      },
      "outputs": [
        {
          "data": {
            "text/plain": [
              "4"
            ]
          },
          "execution_count": 4,
          "metadata": {},
          "output_type": "execute_result"
        }
      ],
      "source": [
        "len(idades)"
      ]
    },
    {
      "cell_type": "code",
      "execution_count": 5,
      "metadata": {
        "colab": {
          "base_uri": "https://localhost:8080/",
          "height": 34
        },
        "colab_type": "code",
        "id": "HhRSkKaNM70v",
        "outputId": "696f8b2c-b191-4355-ed34-6f56d5d3d933"
      },
      "outputs": [
        {
          "data": {
            "text/plain": [
              "39"
            ]
          },
          "execution_count": 5,
          "metadata": {},
          "output_type": "execute_result"
        }
      ],
      "source": [
        "idades[0]"
      ]
    },
    {
      "cell_type": "code",
      "execution_count": 6,
      "metadata": {
        "colab": {
          "base_uri": "https://localhost:8080/",
          "height": 34
        },
        "colab_type": "code",
        "id": "7Wra5jZLM_6e",
        "outputId": "8fed3871-0342-47fc-9db9-0ab4d7057b1f"
      },
      "outputs": [
        {
          "data": {
            "text/plain": [
              "[39, 30, 27, 18]"
            ]
          },
          "execution_count": 6,
          "metadata": {},
          "output_type": "execute_result"
        }
      ],
      "source": [
        "idades"
      ]
    },
    {
      "cell_type": "code",
      "execution_count": 7,
      "metadata": {
        "colab": {
          "base_uri": "https://localhost:8080/",
          "height": 68
        },
        "colab_type": "code",
        "id": "NXyDZcsZNBJm",
        "outputId": "332eb1da-f322-4971-a251-a747be3fd0ea"
      },
      "outputs": [
        {
          "name": "stdout",
          "output_type": "stream",
          "text": [
            "30\n",
            "27\n",
            "18\n"
          ]
        }
      ],
      "source": [
        "print(idades[1])\n",
        "print(idades[2])\n",
        "print(idades[3])"
      ]
    },
    {
      "cell_type": "code",
      "execution_count": 8,
      "metadata": {
        "colab": {},
        "colab_type": "code",
        "id": "60CS-6vnNEzX"
      },
      "outputs": [],
      "source": [
        "idades.append(15)"
      ]
    },
    {
      "cell_type": "code",
      "execution_count": 9,
      "metadata": {
        "colab": {
          "base_uri": "https://localhost:8080/",
          "height": 34
        },
        "colab_type": "code",
        "id": "LgNGaf7FNSr-",
        "outputId": "a28ea2c7-4390-433d-e1e3-20cd2e78af47"
      },
      "outputs": [
        {
          "data": {
            "text/plain": [
              "[39, 30, 27, 18, 15]"
            ]
          },
          "execution_count": 9,
          "metadata": {},
          "output_type": "execute_result"
        }
      ],
      "source": [
        "idades"
      ]
    },
    {
      "cell_type": "code",
      "execution_count": 10,
      "metadata": {
        "colab": {
          "base_uri": "https://localhost:8080/",
          "height": 34
        },
        "colab_type": "code",
        "id": "PqFCqcOvNT7h",
        "outputId": "27b970b2-8d60-499d-eb52-8f6243581a62"
      },
      "outputs": [
        {
          "data": {
            "text/plain": [
              "15"
            ]
          },
          "execution_count": 10,
          "metadata": {},
          "output_type": "execute_result"
        }
      ],
      "source": [
        "idades[4]"
      ]
    },
    {
      "cell_type": "code",
      "execution_count": 11,
      "metadata": {
        "colab": {
          "base_uri": "https://localhost:8080/",
          "height": 164
        },
        "colab_type": "code",
        "id": "aCzxDZ0CNVti",
        "outputId": "ccc1e9a5-1fc2-4ee7-80e9-84d12a13f72f"
      },
      "outputs": [
        {
          "ename": "IndexError",
          "evalue": "list index out of range",
          "output_type": "error",
          "traceback": [
            "\u001b[1;31m---------------------------------------------------------------------------\u001b[0m",
            "\u001b[1;31mIndexError\u001b[0m                                Traceback (most recent call last)",
            "Cell \u001b[1;32mIn[11], line 1\u001b[0m\n\u001b[1;32m----> 1\u001b[0m idades[\u001b[39m5\u001b[39;49m]\n",
            "\u001b[1;31mIndexError\u001b[0m: list index out of range"
          ]
        }
      ],
      "source": [
        "idades[5]"
      ]
    },
    {
      "cell_type": "code",
      "execution_count": null,
      "metadata": {
        "colab": {
          "base_uri": "https://localhost:8080/",
          "height": 102
        },
        "colab_type": "code",
        "id": "AXKjngwvNXLM",
        "outputId": "0d3f235c-d588-4609-be50-19866c560741"
      },
      "outputs": [
        {
          "name": "stdout",
          "output_type": "stream",
          "text": [
            "39\n",
            "30\n",
            "27\n",
            "18\n",
            "15\n"
          ]
        }
      ],
      "source": [
        "for idade in idades:\n",
        "  print(idade)"
      ]
    },
    {
      "cell_type": "code",
      "execution_count": null,
      "metadata": {
        "colab": {},
        "colab_type": "code",
        "id": "e086OjeaNmWj"
      },
      "outputs": [],
      "source": [
        "idades.remove(30)"
      ]
    },
    {
      "cell_type": "code",
      "execution_count": null,
      "metadata": {
        "colab": {
          "base_uri": "https://localhost:8080/",
          "height": 34
        },
        "colab_type": "code",
        "id": "5A6pLLh4No8s",
        "outputId": "3203d937-8a79-43ad-8717-62889a3cda78"
      },
      "outputs": [
        {
          "data": {
            "text/plain": [
              "[39, 27, 18, 15]"
            ]
          },
          "execution_count": 14,
          "metadata": {
            "tags": []
          },
          "output_type": "execute_result"
        }
      ],
      "source": [
        "idades"
      ]
    },
    {
      "cell_type": "code",
      "execution_count": null,
      "metadata": {
        "colab": {
          "base_uri": "https://localhost:8080/",
          "height": 164
        },
        "colab_type": "code",
        "id": "ojsePmRwNpy2",
        "outputId": "2f22e3ed-2013-4110-f798-25746e567b4b"
      },
      "outputs": [
        {
          "ename": "ValueError",
          "evalue": "ignored",
          "output_type": "error",
          "traceback": [
            "\u001b[0;31m---------------------------------------------------------------------------\u001b[0m",
            "\u001b[0;31mValueError\u001b[0m                                Traceback (most recent call last)",
            "\u001b[0;32m<ipython-input-15-4f77f6ee3785>\u001b[0m in \u001b[0;36m<module>\u001b[0;34m()\u001b[0m\n\u001b[0;32m----> 1\u001b[0;31m \u001b[0midades\u001b[0m\u001b[0;34m.\u001b[0m\u001b[0mremove\u001b[0m\u001b[0;34m(\u001b[0m\u001b[0;36m30\u001b[0m\u001b[0;34m)\u001b[0m\u001b[0;34m\u001b[0m\u001b[0;34m\u001b[0m\u001b[0m\n\u001b[0m",
            "\u001b[0;31mValueError\u001b[0m: list.remove(x): x not in list"
          ]
        }
      ],
      "source": [
        "idades.remove(30)"
      ]
    },
    {
      "cell_type": "code",
      "execution_count": null,
      "metadata": {
        "colab": {},
        "colab_type": "code",
        "id": "kkdK3t6nNsXW"
      },
      "outputs": [],
      "source": [
        "idades.append(15)"
      ]
    },
    {
      "cell_type": "code",
      "execution_count": null,
      "metadata": {
        "colab": {
          "base_uri": "https://localhost:8080/",
          "height": 34
        },
        "colab_type": "code",
        "id": "caaWvENvNv8N",
        "outputId": "88252e91-09f7-427a-97c0-a7c1f959faa5"
      },
      "outputs": [
        {
          "data": {
            "text/plain": [
              "[39, 27, 18, 15, 15]"
            ]
          },
          "execution_count": 17,
          "metadata": {
            "tags": []
          },
          "output_type": "execute_result"
        }
      ],
      "source": [
        "idades"
      ]
    },
    {
      "cell_type": "code",
      "execution_count": null,
      "metadata": {
        "colab": {},
        "colab_type": "code",
        "id": "IZC0ENA1Nwso"
      },
      "outputs": [],
      "source": [
        "idades.remove(15)"
      ]
    },
    {
      "cell_type": "code",
      "execution_count": null,
      "metadata": {
        "colab": {
          "base_uri": "https://localhost:8080/",
          "height": 34
        },
        "colab_type": "code",
        "id": "80fchrRGNx4A",
        "outputId": "6b0e6fcc-eea3-43cf-ab26-9bca42be28a2"
      },
      "outputs": [
        {
          "data": {
            "text/plain": [
              "[39, 27, 18, 15]"
            ]
          },
          "execution_count": 19,
          "metadata": {
            "tags": []
          },
          "output_type": "execute_result"
        }
      ],
      "source": [
        "idades"
      ]
    },
    {
      "cell_type": "code",
      "execution_count": null,
      "metadata": {
        "colab": {
          "base_uri": "https://localhost:8080/",
          "height": 34
        },
        "colab_type": "code",
        "id": "yNWCUQupNycy",
        "outputId": "25760192-d00c-4b43-a270-d3153d47d8d9"
      },
      "outputs": [
        {
          "data": {
            "text/plain": [
              "[39, 18, 15, 27]"
            ]
          },
          "execution_count": 20,
          "metadata": {
            "tags": []
          },
          "output_type": "execute_result"
        }
      ],
      "source": [
        "idades.append(27)\n",
        "idades.remove(27)\n",
        "idades"
      ]
    },
    {
      "cell_type": "code",
      "execution_count": null,
      "metadata": {
        "colab": {
          "base_uri": "https://localhost:8080/",
          "height": 34
        },
        "colab_type": "code",
        "id": "Kot_FAOkN3g3",
        "outputId": "3984eb73-bef7-4d97-c204-498a1cb10255"
      },
      "outputs": [
        {
          "data": {
            "text/plain": [
              "False"
            ]
          },
          "execution_count": 21,
          "metadata": {
            "tags": []
          },
          "output_type": "execute_result"
        }
      ],
      "source": [
        "28 in idades"
      ]
    },
    {
      "cell_type": "code",
      "execution_count": null,
      "metadata": {
        "colab": {
          "base_uri": "https://localhost:8080/",
          "height": 34
        },
        "colab_type": "code",
        "id": "DMmSks6eOmaX",
        "outputId": "ad08ba0c-ddd5-4bf4-8563-812218236c66"
      },
      "outputs": [
        {
          "data": {
            "text/plain": [
              "True"
            ]
          },
          "execution_count": 22,
          "metadata": {
            "tags": []
          },
          "output_type": "execute_result"
        }
      ],
      "source": [
        "15 in idades"
      ]
    },
    {
      "cell_type": "code",
      "execution_count": null,
      "metadata": {
        "colab": {},
        "colab_type": "code",
        "id": "N01sbE4xOoAF"
      },
      "outputs": [],
      "source": [
        "if 15 in idades:\n",
        "  idades.remove(15)"
      ]
    },
    {
      "cell_type": "code",
      "execution_count": null,
      "metadata": {
        "colab": {
          "base_uri": "https://localhost:8080/",
          "height": 34
        },
        "colab_type": "code",
        "id": "U4Ozd7ZxOukR",
        "outputId": "3fe09b28-d4d2-4628-c1ea-b4e1b65fbe20"
      },
      "outputs": [
        {
          "data": {
            "text/plain": [
              "[39, 18, 27]"
            ]
          },
          "execution_count": 24,
          "metadata": {
            "tags": []
          },
          "output_type": "execute_result"
        }
      ],
      "source": [
        "idades"
      ]
    },
    {
      "cell_type": "code",
      "execution_count": null,
      "metadata": {
        "colab": {},
        "colab_type": "code",
        "id": "SMgSWfVsOvrr"
      },
      "outputs": [],
      "source": [
        "if 28 in idades:\n",
        "  idades.remove(28)"
      ]
    },
    {
      "cell_type": "code",
      "execution_count": null,
      "metadata": {
        "colab": {
          "base_uri": "https://localhost:8080/",
          "height": 34
        },
        "colab_type": "code",
        "id": "feOCw2UEOzaf",
        "outputId": "ae5f35ed-6524-42b1-9ceb-34261d96bbf0"
      },
      "outputs": [
        {
          "data": {
            "text/plain": [
              "[39, 18, 27]"
            ]
          },
          "execution_count": 26,
          "metadata": {
            "tags": []
          },
          "output_type": "execute_result"
        }
      ],
      "source": [
        "idades"
      ]
    },
    {
      "cell_type": "code",
      "execution_count": null,
      "metadata": {
        "colab": {
          "base_uri": "https://localhost:8080/",
          "height": 34
        },
        "colab_type": "code",
        "id": "v9GOmJkDO0QH",
        "outputId": "347d2365-2491-41fd-de2e-946e14f549a3"
      },
      "outputs": [
        {
          "data": {
            "text/plain": [
              "[39, 18, 27, 19]"
            ]
          },
          "execution_count": 27,
          "metadata": {
            "tags": []
          },
          "output_type": "execute_result"
        }
      ],
      "source": [
        "idades.append(19)\n",
        "idades"
      ]
    },
    {
      "cell_type": "code",
      "execution_count": null,
      "metadata": {
        "colab": {
          "base_uri": "https://localhost:8080/",
          "height": 34
        },
        "colab_type": "code",
        "id": "EXZzTRCWO6LU",
        "outputId": "ad483abe-8029-4ac4-bfca-b2c323dba1d4"
      },
      "outputs": [
        {
          "data": {
            "text/plain": [
              "[20, 39, 18, 27, 19]"
            ]
          },
          "execution_count": 28,
          "metadata": {
            "tags": []
          },
          "output_type": "execute_result"
        }
      ],
      "source": [
        "idades.insert(0, 20)\n",
        "idades"
      ]
    },
    {
      "cell_type": "code",
      "execution_count": null,
      "metadata": {
        "colab": {
          "base_uri": "https://localhost:8080/",
          "height": 34
        },
        "colab_type": "code",
        "id": "yQ6QIHbVPDJm",
        "outputId": "9439a0da-810d-470a-9e0f-eb4555c72a5f"
      },
      "outputs": [
        {
          "data": {
            "text/plain": [
              "[20, 39, 18]"
            ]
          },
          "execution_count": 29,
          "metadata": {
            "tags": []
          },
          "output_type": "execute_result"
        }
      ],
      "source": [
        "idades = [20, 39, 18]\n",
        "idades"
      ]
    },
    {
      "cell_type": "code",
      "execution_count": null,
      "metadata": {
        "colab": {},
        "colab_type": "code",
        "id": "1x5IZ3LxPKFw"
      },
      "outputs": [],
      "source": [
        "idades.append([27, 19])"
      ]
    },
    {
      "cell_type": "code",
      "execution_count": null,
      "metadata": {
        "colab": {
          "base_uri": "https://localhost:8080/",
          "height": 34
        },
        "colab_type": "code",
        "id": "pbjqVYWcPNfa",
        "outputId": "e70523c1-41f0-4879-f674-d013c325d973"
      },
      "outputs": [
        {
          "data": {
            "text/plain": [
              "[20, 39, 18, [27, 19]]"
            ]
          },
          "execution_count": 31,
          "metadata": {
            "tags": []
          },
          "output_type": "execute_result"
        }
      ],
      "source": [
        "idades"
      ]
    },
    {
      "cell_type": "code",
      "execution_count": null,
      "metadata": {
        "colab": {
          "base_uri": "https://localhost:8080/",
          "height": 85
        },
        "colab_type": "code",
        "id": "YJndRY-ZPTb8",
        "outputId": "c12abec0-841b-4d67-8253-85d4b3fb29e0"
      },
      "outputs": [
        {
          "name": "stdout",
          "output_type": "stream",
          "text": [
            "Recebi o elemento 20\n",
            "Recebi o elemento 39\n",
            "Recebi o elemento 18\n",
            "Recebi o elemento [27, 19]\n"
          ]
        }
      ],
      "source": [
        "for elemento in idades:\n",
        "  print(\"Recebi o elemento\", elemento)"
      ]
    },
    {
      "cell_type": "code",
      "execution_count": null,
      "metadata": {
        "colab": {
          "base_uri": "https://localhost:8080/",
          "height": 34
        },
        "colab_type": "code",
        "id": "Rt1JRcrIPZVL",
        "outputId": "0563bbdf-2fc5-41b3-af96-d1cfa1b1b226"
      },
      "outputs": [
        {
          "data": {
            "text/plain": [
              "[20, 39, 18, 27, 19]"
            ]
          },
          "execution_count": 33,
          "metadata": {
            "tags": []
          },
          "output_type": "execute_result"
        }
      ],
      "source": [
        "idades = [20, 39, 18]\n",
        "idades.extend([27, 19])\n",
        "idades"
      ]
    },
    {
      "cell_type": "code",
      "execution_count": null,
      "metadata": {
        "colab": {
          "base_uri": "https://localhost:8080/",
          "height": 102
        },
        "colab_type": "code",
        "id": "2TqBUj41PwzS",
        "outputId": "3943fee3-9d62-42ce-de69-d84b7c51d1e9"
      },
      "outputs": [
        {
          "name": "stdout",
          "output_type": "stream",
          "text": [
            "21\n",
            "40\n",
            "19\n",
            "28\n",
            "20\n"
          ]
        }
      ],
      "source": [
        "for idade in idades:\n",
        "  print(idade + 1)"
      ]
    },
    {
      "cell_type": "code",
      "execution_count": null,
      "metadata": {
        "colab": {
          "base_uri": "https://localhost:8080/",
          "height": 34
        },
        "colab_type": "code",
        "id": "-zU67OikQCJq",
        "outputId": "fa761ea9-504c-4aa9-a20c-3f88979e0bef"
      },
      "outputs": [
        {
          "data": {
            "text/plain": [
              "[21, 40, 19, 28, 20]"
            ]
          },
          "execution_count": 35,
          "metadata": {
            "tags": []
          },
          "output_type": "execute_result"
        }
      ],
      "source": [
        "idades_no_ano_que_vem = []\n",
        "for idade in idades:\n",
        "  idades_no_ano_que_vem.append(idade+1)\n",
        "idades_no_ano_que_vem"
      ]
    },
    {
      "cell_type": "code",
      "execution_count": null,
      "metadata": {
        "colab": {
          "base_uri": "https://localhost:8080/",
          "height": 34
        },
        "colab_type": "code",
        "id": "P50Oyp-EQQrC",
        "outputId": "bd6cdf29-5300-49a0-ecaa-366f3848d2e6"
      },
      "outputs": [
        {
          "data": {
            "text/plain": [
              "[21, 40, 19, 28, 20]"
            ]
          },
          "execution_count": 36,
          "metadata": {
            "tags": []
          },
          "output_type": "execute_result"
        }
      ],
      "source": [
        "idades_no_ano_que_vem = [idade+1 for idade in idades]\n",
        "idades_no_ano_que_vem"
      ]
    },
    {
      "cell_type": "code",
      "execution_count": null,
      "metadata": {
        "colab": {
          "base_uri": "https://localhost:8080/",
          "height": 34
        },
        "colab_type": "code",
        "id": "QdPT5ougQmvS",
        "outputId": "b06d825f-fae1-41ae-d5fd-94f3b58ce7a0"
      },
      "outputs": [
        {
          "data": {
            "text/plain": [
              "[39, 27]"
            ]
          },
          "execution_count": 37,
          "metadata": {
            "tags": []
          },
          "output_type": "execute_result"
        }
      ],
      "source": [
        "[idade for idade in idades if idade > 21]"
      ]
    },
    {
      "cell_type": "code",
      "execution_count": null,
      "metadata": {
        "colab": {
          "base_uri": "https://localhost:8080/",
          "height": 34
        },
        "colab_type": "code",
        "id": "25Mg6X9zQ-U5",
        "outputId": "a32f50e2-89b6-4ede-894f-8b4d1326fe7a"
      },
      "outputs": [
        {
          "data": {
            "text/plain": [
              "[20, 39, 18, 27, 19]"
            ]
          },
          "execution_count": 38,
          "metadata": {
            "tags": []
          },
          "output_type": "execute_result"
        }
      ],
      "source": [
        "idades"
      ]
    },
    {
      "cell_type": "code",
      "execution_count": null,
      "metadata": {
        "colab": {
          "base_uri": "https://localhost:8080/",
          "height": 34
        },
        "colab_type": "code",
        "id": "feAiRsuTRAQ0",
        "outputId": "c2bd0e4d-a032-43c2-b629-9417008a08c8"
      },
      "outputs": [
        {
          "data": {
            "text/plain": [
              "[40, 28]"
            ]
          },
          "execution_count": 39,
          "metadata": {
            "tags": []
          },
          "output_type": "execute_result"
        }
      ],
      "source": [
        "def proximo_ano(idade):\n",
        "  return idade+1\n",
        "\n",
        "[proximo_ano(idade) for idade in idades if idade > 21]"
      ]
    },
    {
      "cell_type": "code",
      "execution_count": null,
      "metadata": {
        "colab": {},
        "colab_type": "code",
        "id": "zHFn9PYHSY3Z"
      },
      "outputs": [],
      "source": [
        "def faz_processamento_de_visualizacao(lista):\n",
        "  print(len(lista))\n",
        "  lista.append(13)"
      ]
    },
    {
      "cell_type": "code",
      "execution_count": null,
      "metadata": {
        "colab": {
          "base_uri": "https://localhost:8080/",
          "height": 51
        },
        "colab_type": "code",
        "id": "7nWLQ7t-SqT3",
        "outputId": "abf5876d-c9d3-4d8f-c4d6-3a07ba1ab091"
      },
      "outputs": [
        {
          "name": "stdout",
          "output_type": "stream",
          "text": [
            "5\n"
          ]
        },
        {
          "data": {
            "text/plain": [
              "[16, 21, 29, 56, 43, 13]"
            ]
          },
          "execution_count": 41,
          "metadata": {
            "tags": []
          },
          "output_type": "execute_result"
        }
      ],
      "source": [
        "idades = [16, 21, 29, 56, 43]\n",
        "faz_processamento_de_visualizacao(idades)\n",
        "idades"
      ]
    },
    {
      "cell_type": "code",
      "execution_count": null,
      "metadata": {
        "colab": {},
        "colab_type": "code",
        "id": "k8n9XUouSvXc"
      },
      "outputs": [],
      "source": [
        "def faz_processamento_de_visualizacao(lista = []):\n",
        "  print(len(lista))\n",
        "  print(lista)\n",
        "  lista.append(13)"
      ]
    },
    {
      "cell_type": "code",
      "execution_count": null,
      "metadata": {
        "colab": {
          "base_uri": "https://localhost:8080/",
          "height": 51
        },
        "colab_type": "code",
        "id": "p-KkKf-6Tplr",
        "outputId": "e3a883b0-b6df-4654-eb7c-264ea92bab06"
      },
      "outputs": [
        {
          "name": "stdout",
          "output_type": "stream",
          "text": [
            "0\n",
            "[]\n"
          ]
        }
      ],
      "source": [
        "faz_processamento_de_visualizacao()"
      ]
    },
    {
      "cell_type": "code",
      "execution_count": null,
      "metadata": {
        "colab": {
          "base_uri": "https://localhost:8080/",
          "height": 51
        },
        "colab_type": "code",
        "id": "29p5f7fOTs9h",
        "outputId": "e31e16da-ab4e-4743-f72e-3078101d2964"
      },
      "outputs": [
        {
          "name": "stdout",
          "output_type": "stream",
          "text": [
            "1\n",
            "[13]\n"
          ]
        }
      ],
      "source": [
        "faz_processamento_de_visualizacao()"
      ]
    },
    {
      "cell_type": "code",
      "execution_count": null,
      "metadata": {
        "colab": {
          "base_uri": "https://localhost:8080/",
          "height": 51
        },
        "colab_type": "code",
        "id": "DWP6B6DuTu0j",
        "outputId": "51443626-e9e3-4ad8-b414-d069d69bfe7a"
      },
      "outputs": [
        {
          "name": "stdout",
          "output_type": "stream",
          "text": [
            "2\n",
            "[13, 13]\n"
          ]
        }
      ],
      "source": [
        "faz_processamento_de_visualizacao()"
      ]
    },
    {
      "cell_type": "code",
      "execution_count": null,
      "metadata": {
        "colab": {
          "base_uri": "https://localhost:8080/",
          "height": 51
        },
        "colab_type": "code",
        "id": "HYbSLIiSTwOB",
        "outputId": "aba6e431-582d-49a7-ef3d-6529e0948e5b"
      },
      "outputs": [
        {
          "name": "stdout",
          "output_type": "stream",
          "text": [
            "3\n",
            "[13, 13, 13]\n"
          ]
        }
      ],
      "source": [
        "faz_processamento_de_visualizacao()"
      ]
    },
    {
      "cell_type": "code",
      "execution_count": null,
      "metadata": {
        "colab": {},
        "colab_type": "code",
        "id": "vS-8-DHiTxdh"
      },
      "outputs": [],
      "source": [
        "def faz_processamento_de_visualizacao(lista = list()):\n",
        "  print(len(lista))\n",
        "  print(lista)\n",
        "  lista.append(13)"
      ]
    },
    {
      "cell_type": "code",
      "execution_count": null,
      "metadata": {
        "colab": {
          "base_uri": "https://localhost:8080/",
          "height": 85
        },
        "colab_type": "code",
        "id": "lCMngXMGUKli",
        "outputId": "c0016940-c980-4db2-c5f5-fb12f7dc3d40"
      },
      "outputs": [
        {
          "name": "stdout",
          "output_type": "stream",
          "text": [
            "0\n",
            "[]\n",
            "1\n",
            "[13]\n"
          ]
        }
      ],
      "source": [
        "faz_processamento_de_visualizacao()\n",
        "faz_processamento_de_visualizacao()"
      ]
    },
    {
      "cell_type": "code",
      "execution_count": null,
      "metadata": {
        "colab": {},
        "colab_type": "code",
        "id": "5sMp0XuKUMVf"
      },
      "outputs": [],
      "source": [
        "def faz_processamento_de_visualizacao(lista = None):\n",
        "  if lista == None:\n",
        "    lista = list()\n",
        "  print(len(lista))\n",
        "  print(lista)\n",
        "  lista.append(13)"
      ]
    },
    {
      "cell_type": "code",
      "execution_count": null,
      "metadata": {
        "colab": {
          "base_uri": "https://localhost:8080/",
          "height": 153
        },
        "colab_type": "code",
        "id": "2LxsmPtaUU-D",
        "outputId": "c2346ab4-e289-48d7-e27c-b9d685b40938"
      },
      "outputs": [
        {
          "name": "stdout",
          "output_type": "stream",
          "text": [
            "0\n",
            "[]\n",
            "0\n",
            "[]\n",
            "0\n",
            "[]\n",
            "0\n",
            "[]\n"
          ]
        }
      ],
      "source": [
        "faz_processamento_de_visualizacao()\n",
        "faz_processamento_de_visualizacao()\n",
        "faz_processamento_de_visualizacao()\n",
        "faz_processamento_de_visualizacao()"
      ]
    },
    {
      "attachments": {},
      "cell_type": "markdown",
      "metadata": {
        "colab_type": "text",
        "id": "nSLRH36CABiH"
      },
      "source": [
        "# Objetos próprios"
      ]
    },
    {
      "cell_type": "code",
      "execution_count": null,
      "metadata": {
        "colab": {},
        "colab_type": "code",
        "id": "xD-vMk2iUYst"
      },
      "outputs": [],
      "source": [
        "class ContaCorrente:\n",
        "  \n",
        "  def __init__(self, codigo):\n",
        "    self.codigo = codigo\n",
        "    self.saldo = 0\n",
        "\n",
        "  def deposita(self, valor):\n",
        "    self.saldo += valor\n",
        "    \n",
        "  def __str__(self):\n",
        "    return \"[>>Codigo {} Saldo {}<<]\".format(self.codigo, self.saldo)\n",
        "  "
      ]
    },
    {
      "cell_type": "code",
      "execution_count": null,
      "metadata": {
        "colab": {
          "base_uri": "https://localhost:8080/",
          "height": 34
        },
        "colab_type": "code",
        "id": "iX4AWuRnAoI-",
        "outputId": "c4f1a552-8d7c-4bd6-efde-a2a0022398d5"
      },
      "outputs": [
        {
          "name": "stdout",
          "output_type": "stream",
          "text": [
            "[>>Codigo 15 Saldo 0<<]\n"
          ]
        }
      ],
      "source": [
        "conta_do_gui = ContaCorrente(15)\n",
        "print(conta_do_gui)"
      ]
    },
    {
      "cell_type": "code",
      "execution_count": null,
      "metadata": {
        "colab": {
          "base_uri": "https://localhost:8080/",
          "height": 34
        },
        "colab_type": "code",
        "id": "34S7rISWAtDp",
        "outputId": "28bbacf6-2f5b-4f98-be1f-fd372e6fb7e8"
      },
      "outputs": [
        {
          "name": "stdout",
          "output_type": "stream",
          "text": [
            "[>>Codigo 15 Saldo 500<<]\n"
          ]
        }
      ],
      "source": [
        "conta_do_gui.deposita(500)\n",
        "print(conta_do_gui)"
      ]
    },
    {
      "cell_type": "code",
      "execution_count": null,
      "metadata": {
        "colab": {
          "base_uri": "https://localhost:8080/",
          "height": 34
        },
        "colab_type": "code",
        "id": "RT5bL1mwAyFv",
        "outputId": "bb67244f-4447-443a-d8dd-003bbcc38539"
      },
      "outputs": [
        {
          "name": "stdout",
          "output_type": "stream",
          "text": [
            "[>>Codigo 47685 Saldo 1000<<]\n"
          ]
        }
      ],
      "source": [
        "conta_da_dani = ContaCorrente(47685)\n",
        "conta_da_dani.deposita(1000)\n",
        "print(conta_da_dani)"
      ]
    },
    {
      "cell_type": "code",
      "execution_count": null,
      "metadata": {
        "colab": {
          "base_uri": "https://localhost:8080/",
          "height": 51
        },
        "colab_type": "code",
        "id": "a6vhFnxqA5Tb",
        "outputId": "1ee02712-d72c-49d4-e20e-db7743893ab8"
      },
      "outputs": [
        {
          "name": "stdout",
          "output_type": "stream",
          "text": [
            "[>>Codigo 15 Saldo 500<<]\n",
            "[>>Codigo 47685 Saldo 1000<<]\n"
          ]
        }
      ],
      "source": [
        "contas = [conta_do_gui, conta_da_dani]\n",
        "for conta in contas:\n",
        "  print(conta)"
      ]
    },
    {
      "cell_type": "code",
      "execution_count": null,
      "metadata": {
        "colab": {},
        "colab_type": "code",
        "id": "X3zR5sx8A-_J"
      },
      "outputs": [],
      "source": [
        "contas = [conta_do_gui, conta_da_dani, conta_do_gui]"
      ]
    },
    {
      "cell_type": "code",
      "execution_count": null,
      "metadata": {
        "colab": {
          "base_uri": "https://localhost:8080/",
          "height": 34
        },
        "colab_type": "code",
        "id": "UKIQ1bkMBVk8",
        "outputId": "cec40720-b36c-40b6-e39f-704343386801"
      },
      "outputs": [
        {
          "name": "stdout",
          "output_type": "stream",
          "text": [
            "[>>Codigo 15 Saldo 500<<]\n"
          ]
        }
      ],
      "source": [
        "print(contas[0])"
      ]
    },
    {
      "cell_type": "code",
      "execution_count": null,
      "metadata": {
        "colab": {},
        "colab_type": "code",
        "id": "B1icEA1JBYm2"
      },
      "outputs": [],
      "source": [
        "conta_do_gui.deposita(100)"
      ]
    },
    {
      "cell_type": "code",
      "execution_count": null,
      "metadata": {
        "colab": {
          "base_uri": "https://localhost:8080/",
          "height": 34
        },
        "colab_type": "code",
        "id": "p_ZkStLRBc7Y",
        "outputId": "8890cad2-e121-425f-f24e-d05423589d1f"
      },
      "outputs": [
        {
          "name": "stdout",
          "output_type": "stream",
          "text": [
            "[>>Codigo 15 Saldo 600<<]\n"
          ]
        }
      ],
      "source": [
        "print(contas[0])"
      ]
    },
    {
      "cell_type": "code",
      "execution_count": null,
      "metadata": {
        "colab": {
          "base_uri": "https://localhost:8080/",
          "height": 34
        },
        "colab_type": "code",
        "id": "ux-dx00DBfE5",
        "outputId": "109cd18f-401a-434e-9104-9995d558dc4d"
      },
      "outputs": [
        {
          "name": "stdout",
          "output_type": "stream",
          "text": [
            "[>>Codigo 15 Saldo 600<<]\n"
          ]
        }
      ],
      "source": [
        "print(conta_do_gui)"
      ]
    },
    {
      "cell_type": "code",
      "execution_count": null,
      "metadata": {
        "colab": {
          "base_uri": "https://localhost:8080/",
          "height": 34
        },
        "colab_type": "code",
        "id": "tUeW-YgvBh69",
        "outputId": "a8786987-92ba-48e4-a2ef-9b4fff7bb657"
      },
      "outputs": [
        {
          "name": "stdout",
          "output_type": "stream",
          "text": [
            "[>>Codigo 15 Saldo 600<<]\n"
          ]
        }
      ],
      "source": [
        "print(contas[2])"
      ]
    },
    {
      "cell_type": "code",
      "execution_count": null,
      "metadata": {
        "colab": {},
        "colab_type": "code",
        "id": "FfxPIh3OB3Mi"
      },
      "outputs": [],
      "source": [
        "contas[2].deposita(300)"
      ]
    },
    {
      "cell_type": "code",
      "execution_count": null,
      "metadata": {
        "colab": {
          "base_uri": "https://localhost:8080/",
          "height": 34
        },
        "colab_type": "code",
        "id": "6KAQeXTyCCG-",
        "outputId": "c4f75981-d7bd-462f-9d6f-193f3049714c"
      },
      "outputs": [
        {
          "name": "stdout",
          "output_type": "stream",
          "text": [
            "[>>Codigo 15 Saldo 900<<]\n"
          ]
        }
      ],
      "source": [
        "print(conta_do_gui)"
      ]
    },
    {
      "cell_type": "code",
      "execution_count": null,
      "metadata": {
        "colab": {
          "base_uri": "https://localhost:8080/",
          "height": 51
        },
        "colab_type": "code",
        "id": "FmaNTI6UCECK",
        "outputId": "4cd1a8d2-714d-4fcc-e5e8-2554e3d45230"
      },
      "outputs": [
        {
          "name": "stdout",
          "output_type": "stream",
          "text": [
            "[>>Codigo 15 Saldo 900<<] [>>Codigo 47685 Saldo 1000<<]\n",
            "[>>Codigo 15 Saldo 1000<<] [>>Codigo 47685 Saldo 1100<<]\n"
          ]
        }
      ],
      "source": [
        "def deposita_para_todas(contas):\n",
        "  for conta in contas:\n",
        "    conta.deposita(100)\n",
        "\n",
        "contas = [conta_do_gui, conta_da_dani]\n",
        "print(contas[0], contas[1])\n",
        "deposita_para_todas(contas)\n",
        "print(contas[0], contas[1])"
      ]
    },
    {
      "cell_type": "code",
      "execution_count": null,
      "metadata": {
        "colab": {
          "base_uri": "https://localhost:8080/",
          "height": 34
        },
        "colab_type": "code",
        "id": "2ziWV7k6D1jf",
        "outputId": "97dd4465-c065-4123-9cbb-2354be869867"
      },
      "outputs": [
        {
          "name": "stdout",
          "output_type": "stream",
          "text": [
            "76 [>>Codigo 15 Saldo 1000<<] [>>Codigo 47685 Saldo 1100<<]\n"
          ]
        }
      ],
      "source": [
        "contas.insert(0,76)\n",
        "print(contas[0], contas[1], contas[2])"
      ]
    },
    {
      "cell_type": "code",
      "execution_count": null,
      "metadata": {
        "colab": {
          "base_uri": "https://localhost:8080/",
          "height": 300
        },
        "colab_type": "code",
        "id": "u4oCdsKpEKkX",
        "outputId": "58b301b9-7206-4a84-9192-34a6542ea7b5"
      },
      "outputs": [
        {
          "ename": "AttributeError",
          "evalue": "ignored",
          "output_type": "error",
          "traceback": [
            "\u001b[0;31m---------------------------------------------------------------------------\u001b[0m",
            "\u001b[0;31mAttributeError\u001b[0m                            Traceback (most recent call last)",
            "\u001b[0;32m<ipython-input-66-92ac4487eece>\u001b[0m in \u001b[0;36m<module>\u001b[0;34m()\u001b[0m\n\u001b[0;32m----> 1\u001b[0;31m \u001b[0mdeposita_para_todas\u001b[0m\u001b[0;34m(\u001b[0m\u001b[0mcontas\u001b[0m\u001b[0;34m)\u001b[0m\u001b[0;34m\u001b[0m\u001b[0;34m\u001b[0m\u001b[0m\n\u001b[0m\u001b[1;32m      2\u001b[0m \u001b[0mprint\u001b[0m\u001b[0;34m(\u001b[0m\u001b[0mcontas\u001b[0m\u001b[0;34m[\u001b[0m\u001b[0;36m0\u001b[0m\u001b[0;34m]\u001b[0m\u001b[0;34m,\u001b[0m \u001b[0mcontas\u001b[0m\u001b[0;34m[\u001b[0m\u001b[0;36m1\u001b[0m\u001b[0;34m]\u001b[0m\u001b[0;34m,\u001b[0m \u001b[0mcontas\u001b[0m\u001b[0;34m[\u001b[0m\u001b[0;36m2\u001b[0m\u001b[0;34m]\u001b[0m\u001b[0;34m)\u001b[0m\u001b[0;34m\u001b[0m\u001b[0;34m\u001b[0m\u001b[0m\n",
            "\u001b[0;32m<ipython-input-64-5c36215b3621>\u001b[0m in \u001b[0;36mdeposita_para_todas\u001b[0;34m(contas)\u001b[0m\n\u001b[1;32m      1\u001b[0m \u001b[0;32mdef\u001b[0m \u001b[0mdeposita_para_todas\u001b[0m\u001b[0;34m(\u001b[0m\u001b[0mcontas\u001b[0m\u001b[0;34m)\u001b[0m\u001b[0;34m:\u001b[0m\u001b[0;34m\u001b[0m\u001b[0;34m\u001b[0m\u001b[0m\n\u001b[1;32m      2\u001b[0m   \u001b[0;32mfor\u001b[0m \u001b[0mconta\u001b[0m \u001b[0;32min\u001b[0m \u001b[0mcontas\u001b[0m\u001b[0;34m:\u001b[0m\u001b[0;34m\u001b[0m\u001b[0;34m\u001b[0m\u001b[0m\n\u001b[0;32m----> 3\u001b[0;31m     \u001b[0mconta\u001b[0m\u001b[0;34m.\u001b[0m\u001b[0mdeposita\u001b[0m\u001b[0;34m(\u001b[0m\u001b[0;36m100\u001b[0m\u001b[0;34m)\u001b[0m\u001b[0;34m\u001b[0m\u001b[0;34m\u001b[0m\u001b[0m\n\u001b[0m\u001b[1;32m      4\u001b[0m \u001b[0;34m\u001b[0m\u001b[0m\n\u001b[1;32m      5\u001b[0m \u001b[0mcontas\u001b[0m \u001b[0;34m=\u001b[0m \u001b[0;34m[\u001b[0m\u001b[0mconta_do_gui\u001b[0m\u001b[0;34m,\u001b[0m \u001b[0mconta_da_dani\u001b[0m\u001b[0;34m]\u001b[0m\u001b[0;34m\u001b[0m\u001b[0;34m\u001b[0m\u001b[0m\n",
            "\u001b[0;31mAttributeError\u001b[0m: 'int' object has no attribute 'deposita'"
          ]
        }
      ],
      "source": [
        "deposita_para_todas(contas)\n",
        "print(contas[0], contas[1], contas[2])"
      ]
    },
    {
      "cell_type": "code",
      "execution_count": null,
      "metadata": {
        "colab": {},
        "colab_type": "code",
        "id": "zJ2GmpD5EXJW"
      },
      "outputs": [],
      "source": [
        "guilherme = ('Guilherme', 37, 1981) # tupla\n",
        "daniela = ('Daniela', 31, 1987)\n",
        "# paulo = (39, 'Paulo', 1979) # ruim"
      ]
    },
    {
      "cell_type": "code",
      "execution_count": null,
      "metadata": {
        "colab": {
          "base_uri": "https://localhost:8080/",
          "height": 164
        },
        "colab_type": "code",
        "id": "s19TLKmqFOON",
        "outputId": "6aa2fbf3-cbbf-40fa-af87-6aa403de12f4"
      },
      "outputs": [
        {
          "ename": "AttributeError",
          "evalue": "ignored",
          "output_type": "error",
          "traceback": [
            "\u001b[0;31m---------------------------------------------------------------------------\u001b[0m",
            "\u001b[0;31mAttributeError\u001b[0m                            Traceback (most recent call last)",
            "\u001b[0;32m<ipython-input-68-b58a3f93fa55>\u001b[0m in \u001b[0;36m<module>\u001b[0;34m()\u001b[0m\n\u001b[0;32m----> 1\u001b[0;31m \u001b[0mguilherme\u001b[0m\u001b[0;34m.\u001b[0m\u001b[0mappend\u001b[0m\u001b[0;34m(\u001b[0m\u001b[0;36m6754\u001b[0m\u001b[0;34m)\u001b[0m\u001b[0;34m\u001b[0m\u001b[0;34m\u001b[0m\u001b[0m\n\u001b[0m",
            "\u001b[0;31mAttributeError\u001b[0m: 'tuple' object has no attribute 'append'"
          ]
        }
      ],
      "source": [
        "guilherme.append(6754)"
      ]
    },
    {
      "cell_type": "code",
      "execution_count": null,
      "metadata": {
        "colab": {
          "base_uri": "https://localhost:8080/",
          "height": 34
        },
        "colab_type": "code",
        "id": "N5fhlteuFP_a",
        "outputId": "5f33abe2-e878-4da5-b8b6-13f4cda84199"
      },
      "outputs": [
        {
          "data": {
            "text/plain": [
              "1000"
            ]
          },
          "execution_count": 69,
          "metadata": {
            "tags": []
          },
          "output_type": "execute_result"
        }
      ],
      "source": [
        "conta_do_gui = (15, 1000)\n",
        "# conta_do_gui.deposita() # variação OO\n",
        "conta_do_gui[1]"
      ]
    },
    {
      "cell_type": "code",
      "execution_count": null,
      "metadata": {
        "colab": {
          "base_uri": "https://localhost:8080/",
          "height": 164
        },
        "colab_type": "code",
        "id": "vfsyYmjwF5b8",
        "outputId": "8bef5f16-538c-434e-d5b0-f560c30a9afb"
      },
      "outputs": [
        {
          "ename": "TypeError",
          "evalue": "ignored",
          "output_type": "error",
          "traceback": [
            "\u001b[0;31m---------------------------------------------------------------------------\u001b[0m",
            "\u001b[0;31mTypeError\u001b[0m                                 Traceback (most recent call last)",
            "\u001b[0;32m<ipython-input-70-b6479b2fecd6>\u001b[0m in \u001b[0;36m<module>\u001b[0;34m()\u001b[0m\n\u001b[0;32m----> 1\u001b[0;31m \u001b[0mconta_do_gui\u001b[0m\u001b[0;34m[\u001b[0m\u001b[0;36m1\u001b[0m\u001b[0;34m]\u001b[0m \u001b[0;34m+=\u001b[0m \u001b[0;36m100\u001b[0m\u001b[0;34m\u001b[0m\u001b[0;34m\u001b[0m\u001b[0m\n\u001b[0m",
            "\u001b[0;31mTypeError\u001b[0m: 'tuple' object does not support item assignment"
          ]
        }
      ],
      "source": [
        "conta_do_gui[1] += 100"
      ]
    },
    {
      "cell_type": "code",
      "execution_count": null,
      "metadata": {
        "colab": {},
        "colab_type": "code",
        "id": "uJcl3XRdF7d6"
      },
      "outputs": [],
      "source": [
        "def deposita(conta): # variação \"funcional\"(separando o comportamento dos dados)\n",
        "  novo_saldo = conta[1] + 100\n",
        "  codigo = conta[0]\n",
        "  return (codigo, novo_saldo)"
      ]
    },
    {
      "cell_type": "code",
      "execution_count": null,
      "metadata": {
        "colab": {
          "base_uri": "https://localhost:8080/",
          "height": 34
        },
        "colab_type": "code",
        "id": "mLBon2SXGNWp",
        "outputId": "36e3892d-7367-419c-a226-5d2f37ce2ba4"
      },
      "outputs": [
        {
          "data": {
            "text/plain": [
              "(15, 1100)"
            ]
          },
          "execution_count": 72,
          "metadata": {
            "tags": []
          },
          "output_type": "execute_result"
        }
      ],
      "source": [
        "deposita(conta_do_gui)"
      ]
    },
    {
      "cell_type": "code",
      "execution_count": null,
      "metadata": {
        "colab": {
          "base_uri": "https://localhost:8080/",
          "height": 34
        },
        "colab_type": "code",
        "id": "44tCMGtOGPsL",
        "outputId": "ea698804-2292-4639-ed17-d1ca17a4d2c3"
      },
      "outputs": [
        {
          "data": {
            "text/plain": [
              "(15, 1000)"
            ]
          },
          "execution_count": 73,
          "metadata": {
            "tags": []
          },
          "output_type": "execute_result"
        }
      ],
      "source": [
        "conta_do_gui"
      ]
    },
    {
      "cell_type": "code",
      "execution_count": null,
      "metadata": {
        "colab": {
          "base_uri": "https://localhost:8080/",
          "height": 34
        },
        "colab_type": "code",
        "id": "6HC3jJ5XGSSe",
        "outputId": "ee8e66aa-2c3a-4b3c-c5b9-0c7b9e186158"
      },
      "outputs": [
        {
          "data": {
            "text/plain": [
              "(15, 1100)"
            ]
          },
          "execution_count": 74,
          "metadata": {
            "tags": []
          },
          "output_type": "execute_result"
        }
      ],
      "source": [
        "conta_do_gui = deposita(conta_do_gui)\n",
        "conta_do_gui"
      ]
    },
    {
      "cell_type": "code",
      "execution_count": null,
      "metadata": {
        "colab": {
          "base_uri": "https://localhost:8080/",
          "height": 34
        },
        "colab_type": "code",
        "id": "D7yIlJNYGVoc",
        "outputId": "97c2ac5e-7cd1-47a5-a56d-1c4e25bcbdc2"
      },
      "outputs": [
        {
          "data": {
            "text/plain": [
              "[('Guilherme', 37, 1981), ('Daniela', 31, 1987)]"
            ]
          },
          "execution_count": 75,
          "metadata": {
            "tags": []
          },
          "output_type": "execute_result"
        }
      ],
      "source": [
        "usuarios = [guilherme, daniela]\n",
        "usuarios"
      ]
    },
    {
      "cell_type": "code",
      "execution_count": null,
      "metadata": {
        "colab": {},
        "colab_type": "code",
        "id": "2UUDEfEcHWbM"
      },
      "outputs": [],
      "source": [
        "usuarios.append(('Paulo', 39, 1979))"
      ]
    },
    {
      "cell_type": "code",
      "execution_count": null,
      "metadata": {
        "colab": {
          "base_uri": "https://localhost:8080/",
          "height": 34
        },
        "colab_type": "code",
        "id": "XgqCK2msHf6z",
        "outputId": "3de113d1-3e76-489e-9424-8c65646eeb04"
      },
      "outputs": [
        {
          "data": {
            "text/plain": [
              "[('Guilherme', 37, 1981), ('Daniela', 31, 1987), ('Paulo', 39, 1979)]"
            ]
          },
          "execution_count": 77,
          "metadata": {
            "tags": []
          },
          "output_type": "execute_result"
        }
      ],
      "source": [
        "usuarios"
      ]
    },
    {
      "cell_type": "code",
      "execution_count": null,
      "metadata": {
        "colab": {
          "base_uri": "https://localhost:8080/",
          "height": 164
        },
        "colab_type": "code",
        "id": "Ce9HE5C1Hg-W",
        "outputId": "0dc32aec-fe7b-43ad-fa16-ac7d33e6d250"
      },
      "outputs": [
        {
          "ename": "TypeError",
          "evalue": "ignored",
          "output_type": "error",
          "traceback": [
            "\u001b[0;31m---------------------------------------------------------------------------\u001b[0m",
            "\u001b[0;31mTypeError\u001b[0m                                 Traceback (most recent call last)",
            "\u001b[0;32m<ipython-input-78-dc00118821b7>\u001b[0m in \u001b[0;36m<module>\u001b[0;34m()\u001b[0m\n\u001b[0;32m----> 1\u001b[0;31m \u001b[0musuarios\u001b[0m\u001b[0;34m[\u001b[0m\u001b[0;36m0\u001b[0m\u001b[0;34m]\u001b[0m\u001b[0;34m[\u001b[0m\u001b[0;36m0\u001b[0m\u001b[0;34m]\u001b[0m \u001b[0;34m=\u001b[0m \u001b[0;34m'Guilherme Silveira'\u001b[0m\u001b[0;34m\u001b[0m\u001b[0;34m\u001b[0m\u001b[0m\n\u001b[0m",
            "\u001b[0;31mTypeError\u001b[0m: 'tuple' object does not support item assignment"
          ]
        }
      ],
      "source": [
        "usuarios[0][0] = 'Guilherme Silveira'\n"
      ]
    },
    {
      "cell_type": "code",
      "execution_count": null,
      "metadata": {
        "colab": {},
        "colab_type": "code",
        "id": "m6jx16xDHoGo"
      },
      "outputs": [],
      "source": [
        "conta_do_gui = ContaCorrente(15)\n",
        "conta_do_gui.deposita(500)\n",
        "conta_da_dani = ContaCorrente(234876)\n",
        "conta_da_dani.deposita(1000)\n",
        "\n",
        "contas = (conta_do_gui, conta_da_dani)"
      ]
    },
    {
      "cell_type": "code",
      "execution_count": null,
      "metadata": {
        "colab": {
          "base_uri": "https://localhost:8080/",
          "height": 51
        },
        "colab_type": "code",
        "id": "1oJCswAdIFza",
        "outputId": "57573211-82d0-4260-a1f9-de09a566a860"
      },
      "outputs": [
        {
          "name": "stdout",
          "output_type": "stream",
          "text": [
            "[>>Codigo 15 Saldo 500<<]\n",
            "[>>Codigo 234876 Saldo 1000<<]\n"
          ]
        }
      ],
      "source": [
        "for conta in contas:\n",
        "  print(conta)"
      ]
    },
    {
      "cell_type": "code",
      "execution_count": null,
      "metadata": {
        "colab": {
          "base_uri": "https://localhost:8080/",
          "height": 164
        },
        "colab_type": "code",
        "id": "VOyxcyruIIP4",
        "outputId": "58668617-1112-4abc-d2a2-5be7f9d1f36e"
      },
      "outputs": [
        {
          "ename": "AttributeError",
          "evalue": "ignored",
          "output_type": "error",
          "traceback": [
            "\u001b[0;31m---------------------------------------------------------------------------\u001b[0m",
            "\u001b[0;31mAttributeError\u001b[0m                            Traceback (most recent call last)",
            "\u001b[0;32m<ipython-input-81-2a440e860371>\u001b[0m in \u001b[0;36m<module>\u001b[0;34m()\u001b[0m\n\u001b[0;32m----> 1\u001b[0;31m \u001b[0mcontas\u001b[0m\u001b[0;34m.\u001b[0m\u001b[0mappend\u001b[0m\u001b[0;34m(\u001b[0m\u001b[0;36m423768\u001b[0m\u001b[0;34m)\u001b[0m\u001b[0;34m\u001b[0m\u001b[0;34m\u001b[0m\u001b[0m\n\u001b[0m",
            "\u001b[0;31mAttributeError\u001b[0m: 'tuple' object has no attribute 'append'"
          ]
        }
      ],
      "source": [
        "contas.append(423768)"
      ]
    },
    {
      "cell_type": "code",
      "execution_count": null,
      "metadata": {
        "colab": {},
        "colab_type": "code",
        "id": "RPH0pv0QIRNQ"
      },
      "outputs": [],
      "source": [
        "contas[0].deposita(300)"
      ]
    },
    {
      "cell_type": "code",
      "execution_count": null,
      "metadata": {
        "colab": {
          "base_uri": "https://localhost:8080/",
          "height": 51
        },
        "colab_type": "code",
        "id": "SXMP9_n7Idnc",
        "outputId": "079a3a07-a971-4c30-b5d7-de54a91349cc"
      },
      "outputs": [
        {
          "name": "stdout",
          "output_type": "stream",
          "text": [
            "[>>Codigo 15 Saldo 800<<]\n",
            "[>>Codigo 234876 Saldo 1000<<]\n"
          ]
        }
      ],
      "source": [
        "for conta in contas:\n",
        "  print(conta)"
      ]
    },
    {
      "attachments": {},
      "cell_type": "markdown",
      "metadata": {
        "colab_type": "text",
        "id": "rWZNChEuJ1kc"
      },
      "source": [
        "# Herança e polimorfismo"
      ]
    },
    {
      "cell_type": "code",
      "execution_count": null,
      "metadata": {
        "colab": {},
        "colab_type": "code",
        "id": "ZsviVdovJovn"
      },
      "outputs": [],
      "source": [
        "from abc import ABCMeta, abstractmethod\n",
        "\n",
        "class Conta(metaclass=ABCMeta):\n",
        "  \n",
        "  def __init__(self, codigo):\n",
        "    self._codigo = codigo\n",
        "    self._saldo = 0\n",
        "\n",
        "  def deposita(self, valor):\n",
        "    self._saldo += valor\n",
        "\n",
        "  @abstractmethod\n",
        "  def passa_o_mes(self):\n",
        "    pass\n",
        "\n",
        "  def __str__(self):\n",
        "    return \"[>>Codigo {} Saldo {}<<]\".format(self._codigo, self._saldo)\n",
        "  "
      ]
    },
    {
      "cell_type": "code",
      "execution_count": null,
      "metadata": {
        "colab": {
          "base_uri": "https://localhost:8080/",
          "height": 164
        },
        "colab_type": "code",
        "id": "XUBuabHEKA0h",
        "outputId": "7338c83d-4747-4614-8f2c-4fcca0c33f74"
      },
      "outputs": [
        {
          "ename": "TypeError",
          "evalue": "ignored",
          "output_type": "error",
          "traceback": [
            "\u001b[0;31m---------------------------------------------------------------------------\u001b[0m",
            "\u001b[0;31mTypeError\u001b[0m                                 Traceback (most recent call last)",
            "\u001b[0;32m<ipython-input-85-bcabbe50454b>\u001b[0m in \u001b[0;36m<module>\u001b[0;34m()\u001b[0m\n\u001b[0;32m----> 1\u001b[0;31m \u001b[0mprint\u001b[0m\u001b[0;34m(\u001b[0m\u001b[0mConta\u001b[0m\u001b[0;34m(\u001b[0m\u001b[0;36m88\u001b[0m\u001b[0;34m)\u001b[0m\u001b[0;34m)\u001b[0m\u001b[0;34m\u001b[0m\u001b[0;34m\u001b[0m\u001b[0m\n\u001b[0m",
            "\u001b[0;31mTypeError\u001b[0m: Can't instantiate abstract class Conta with abstract methods passa_o_mes"
          ]
        }
      ],
      "source": [
        "print(Conta(88))"
      ]
    },
    {
      "cell_type": "code",
      "execution_count": null,
      "metadata": {
        "colab": {},
        "colab_type": "code",
        "id": "bpvPLgAzKCdI"
      },
      "outputs": [],
      "source": [
        "class ContaCorrente(Conta):\n",
        "  \n",
        "  def passa_o_mes(self):\n",
        "    self._saldo -= 2\n",
        "    \n",
        "class ContaPoupanca(Conta):\n",
        "  \n",
        "  def passa_o_mes(self):\n",
        "    self._saldo *= 1.01\n",
        "    self._saldo -= 3\n",
        "\n",
        "class ContaInvestimento(Conta):\n",
        "  pass"
      ]
    },
    {
      "cell_type": "code",
      "execution_count": null,
      "metadata": {
        "colab": {
          "base_uri": "https://localhost:8080/",
          "height": 164
        },
        "colab_type": "code",
        "id": "NzE5-qiROiMe",
        "outputId": "b69b6893-bd8e-4bd9-c4c1-eb390ff1361e"
      },
      "outputs": [
        {
          "ename": "TypeError",
          "evalue": "ignored",
          "output_type": "error",
          "traceback": [
            "\u001b[0;31m---------------------------------------------------------------------------\u001b[0m",
            "\u001b[0;31mTypeError\u001b[0m                                 Traceback (most recent call last)",
            "\u001b[0;32m<ipython-input-87-88113fa11745>\u001b[0m in \u001b[0;36m<module>\u001b[0;34m()\u001b[0m\n\u001b[0;32m----> 1\u001b[0;31m \u001b[0mContaInvestimento\u001b[0m\u001b[0;34m(\u001b[0m\u001b[0;36m764\u001b[0m\u001b[0;34m)\u001b[0m\u001b[0;34m\u001b[0m\u001b[0;34m\u001b[0m\u001b[0m\n\u001b[0m",
            "\u001b[0;31mTypeError\u001b[0m: Can't instantiate abstract class ContaInvestimento with abstract methods passa_o_mes"
          ]
        }
      ],
      "source": [
        "ContaInvestimento(764)"
      ]
    },
    {
      "cell_type": "code",
      "execution_count": null,
      "metadata": {
        "colab": {
          "base_uri": "https://localhost:8080/",
          "height": 34
        },
        "colab_type": "code",
        "id": "o69xY6DIKXll",
        "outputId": "aa0615b8-13c9-49ba-e977-f1ec4437352e"
      },
      "outputs": [
        {
          "name": "stdout",
          "output_type": "stream",
          "text": [
            "[>>Codigo 16 Saldo 998<<]\n"
          ]
        }
      ],
      "source": [
        "conta16 = ContaCorrente(16)\n",
        "conta16.deposita(1000)\n",
        "conta16.passa_o_mes()\n",
        "print(conta16)"
      ]
    },
    {
      "cell_type": "code",
      "execution_count": null,
      "metadata": {
        "colab": {
          "base_uri": "https://localhost:8080/",
          "height": 34
        },
        "colab_type": "code",
        "id": "6zL6cygQKhNW",
        "outputId": "3203c3bf-dca6-4254-edb5-8e0795e5d432"
      },
      "outputs": [
        {
          "name": "stdout",
          "output_type": "stream",
          "text": [
            "[>>Codigo 17 Saldo 1007.0<<]\n"
          ]
        }
      ],
      "source": [
        "conta17 = ContaPoupanca(17)\n",
        "conta17.deposita(1000)\n",
        "conta17.passa_o_mes()\n",
        "print(conta17)"
      ]
    },
    {
      "cell_type": "code",
      "execution_count": null,
      "metadata": {
        "colab": {
          "base_uri": "https://localhost:8080/",
          "height": 51
        },
        "colab_type": "code",
        "id": "RTud1ebOKlpz",
        "outputId": "c15d4ab7-1fc6-40da-f5b1-307fb3f205c4"
      },
      "outputs": [
        {
          "name": "stdout",
          "output_type": "stream",
          "text": [
            "[>>Codigo 16 Saldo 998<<]\n",
            "[>>Codigo 17 Saldo 1007.0<<]\n"
          ]
        }
      ],
      "source": [
        "conta16 = ContaCorrente(16)\n",
        "conta16.deposita(1000)\n",
        "conta17 = ContaPoupanca(17)\n",
        "conta17.deposita(1000)\n",
        "contas = [conta16, conta17]\n",
        "\n",
        "for conta in contas:\n",
        "  conta.passa_o_mes() # duck typing\n",
        "  print(conta)"
      ]
    },
    {
      "attachments": {},
      "cell_type": "markdown",
      "metadata": {
        "colab_type": "text",
        "id": "VdIcEPnhL5a0"
      },
      "source": [
        "# evitaremos usar array puro. se precisamos de trabalho numérico, é costume usar o numpy"
      ]
    },
    {
      "cell_type": "code",
      "execution_count": null,
      "metadata": {
        "colab": {
          "base_uri": "https://localhost:8080/",
          "height": 34
        },
        "colab_type": "code",
        "id": "1e7xmL0aK94h",
        "outputId": "c624905a-d291-4b7c-9d11-2dacee2e5190"
      },
      "outputs": [
        {
          "data": {
            "text/plain": [
              "array('d', [1.0, 3.5])"
            ]
          },
          "execution_count": 91,
          "metadata": {
            "tags": []
          },
          "output_type": "execute_result"
        }
      ],
      "source": [
        "import array as arr\n",
        "\n",
        "arr.array('d', [1, 3.5])"
      ]
    },
    {
      "cell_type": "code",
      "execution_count": null,
      "metadata": {
        "colab": {
          "base_uri": "https://localhost:8080/",
          "height": 164
        },
        "colab_type": "code",
        "id": "j4SCxUVhMHci",
        "outputId": "913427bf-ae05-43ae-862f-5ca725591c2d"
      },
      "outputs": [
        {
          "ename": "TypeError",
          "evalue": "ignored",
          "output_type": "error",
          "traceback": [
            "\u001b[0;31m---------------------------------------------------------------------------\u001b[0m",
            "\u001b[0;31mTypeError\u001b[0m                                 Traceback (most recent call last)",
            "\u001b[0;32m<ipython-input-92-b1a4380a9c4e>\u001b[0m in \u001b[0;36m<module>\u001b[0;34m()\u001b[0m\n\u001b[0;32m----> 1\u001b[0;31m \u001b[0marr\u001b[0m\u001b[0;34m.\u001b[0m\u001b[0marray\u001b[0m\u001b[0;34m(\u001b[0m\u001b[0;34m'd'\u001b[0m\u001b[0;34m,\u001b[0m \u001b[0;34m[\u001b[0m\u001b[0;36m1\u001b[0m\u001b[0;34m,\u001b[0m \u001b[0;36m3.5\u001b[0m\u001b[0;34m,\u001b[0m \u001b[0;34m'Guilherme'\u001b[0m\u001b[0;34m]\u001b[0m\u001b[0;34m)\u001b[0m\u001b[0;34m\u001b[0m\u001b[0;34m\u001b[0m\u001b[0m\n\u001b[0m",
            "\u001b[0;31mTypeError\u001b[0m: must be real number, not str"
          ]
        }
      ],
      "source": [
        "arr.array('d', [1, 3.5, 'Guilherme'])"
      ]
    },
    {
      "cell_type": "code",
      "execution_count": null,
      "metadata": {
        "colab": {
          "base_uri": "https://localhost:8080/",
          "height": 34
        },
        "colab_type": "code",
        "id": "rxLtAyrSMm_O",
        "outputId": "e968dc78-d18f-492e-a2c9-797036d8a058"
      },
      "outputs": [
        {
          "name": "stdout",
          "output_type": "stream",
          "text": [
            "Requirement already satisfied: numpy in /usr/local/lib/python3.6/dist-packages (1.14.6)\n"
          ]
        }
      ],
      "source": [
        "!pip install numpy"
      ]
    },
    {
      "cell_type": "code",
      "execution_count": null,
      "metadata": {
        "colab": {
          "base_uri": "https://localhost:8080/",
          "height": 34
        },
        "colab_type": "code",
        "id": "lNhZ4sqPMVRE",
        "outputId": "3491af55-533c-49e9-bb8b-2b520d250204"
      },
      "outputs": [
        {
          "data": {
            "text/plain": [
              "array([1. , 3.5])"
            ]
          },
          "execution_count": 94,
          "metadata": {
            "tags": []
          },
          "output_type": "execute_result"
        }
      ],
      "source": [
        "import numpy as np\n",
        "\n",
        "numeros = np.array([1, 3.5])\n",
        "numeros"
      ]
    },
    {
      "cell_type": "code",
      "execution_count": null,
      "metadata": {
        "colab": {
          "base_uri": "https://localhost:8080/",
          "height": 34
        },
        "colab_type": "code",
        "id": "_RlgvvTjMv47",
        "outputId": "17db6dbe-e032-419e-ea8d-2d6ed63764cb"
      },
      "outputs": [
        {
          "data": {
            "text/plain": [
              "array([4. , 6.5])"
            ]
          },
          "execution_count": 95,
          "metadata": {
            "tags": []
          },
          "output_type": "execute_result"
        }
      ],
      "source": [
        "numeros + 3"
      ]
    },
    {
      "cell_type": "code",
      "execution_count": null,
      "metadata": {
        "colab": {},
        "colab_type": "code",
        "id": "9r36CEcAM12B"
      },
      "outputs": [],
      "source": [
        "class ContaSalario:\n",
        "  \n",
        "  def __init__(self, codigo):\n",
        "    self._codigo = codigo\n",
        "    self._saldo = 0\n",
        "  \n",
        "  def deposita(self, valor):\n",
        "    self._saldo += valor\n",
        "    \n",
        "  def __str__(self):\n",
        "    return \"[>>Codigo {} Saldo {}<<]\".format(self._codigo, self._saldo)"
      ]
    },
    {
      "cell_type": "code",
      "execution_count": null,
      "metadata": {
        "colab": {
          "base_uri": "https://localhost:8080/",
          "height": 34
        },
        "colab_type": "code",
        "id": "1aA33L43P8wO",
        "outputId": "b53e337b-a1c0-4dd2-e825-872fb1adc102"
      },
      "outputs": [
        {
          "name": "stdout",
          "output_type": "stream",
          "text": [
            "[>>Codigo 37 Saldo 0<<]\n"
          ]
        }
      ],
      "source": [
        "conta1 = ContaSalario(37)\n",
        "print(conta1)"
      ]
    },
    {
      "cell_type": "code",
      "execution_count": null,
      "metadata": {
        "colab": {
          "base_uri": "https://localhost:8080/",
          "height": 34
        },
        "colab_type": "code",
        "id": "CxtjsAE4QA0C",
        "outputId": "596f3eec-9c63-4a9b-dac2-dd448835c995"
      },
      "outputs": [
        {
          "name": "stdout",
          "output_type": "stream",
          "text": [
            "[>>Codigo 37 Saldo 0<<]\n"
          ]
        }
      ],
      "source": [
        "conta2 = ContaSalario(37)\n",
        "print(conta2)"
      ]
    },
    {
      "cell_type": "code",
      "execution_count": null,
      "metadata": {
        "colab": {
          "base_uri": "https://localhost:8080/",
          "height": 34
        },
        "colab_type": "code",
        "id": "RR3KDPlIQGgm",
        "outputId": "cb45af03-bedc-401d-b327-c481f9067aab"
      },
      "outputs": [
        {
          "data": {
            "text/plain": [
              "False"
            ]
          },
          "execution_count": 99,
          "metadata": {
            "tags": []
          },
          "output_type": "execute_result"
        }
      ],
      "source": [
        "conta1 == conta2"
      ]
    },
    {
      "cell_type": "code",
      "execution_count": null,
      "metadata": {
        "colab": {
          "base_uri": "https://localhost:8080/",
          "height": 34
        },
        "colab_type": "code",
        "id": "-cfXl9VCQKtY",
        "outputId": "91f847ef-863a-4a45-b4e5-1e4f02f89eaa"
      },
      "outputs": [
        {
          "data": {
            "text/plain": [
              "True"
            ]
          },
          "execution_count": 100,
          "metadata": {
            "tags": []
          },
          "output_type": "execute_result"
        }
      ],
      "source": [
        "contas = [conta1]\n",
        "conta1 in contas"
      ]
    },
    {
      "cell_type": "code",
      "execution_count": null,
      "metadata": {
        "colab": {
          "base_uri": "https://localhost:8080/",
          "height": 34
        },
        "colab_type": "code",
        "id": "3ACGN1LrQXtM",
        "outputId": "38ceb276-5f61-4393-f320-2db4185eddd9"
      },
      "outputs": [
        {
          "data": {
            "text/plain": [
              "False"
            ]
          },
          "execution_count": 101,
          "metadata": {
            "tags": []
          },
          "output_type": "execute_result"
        }
      ],
      "source": [
        "conta2 in contas"
      ]
    },
    {
      "cell_type": "code",
      "execution_count": null,
      "metadata": {
        "colab": {},
        "colab_type": "code",
        "id": "4Db0Sk5QQZIE"
      },
      "outputs": [],
      "source": [
        "class ContaSalario:\n",
        "  \n",
        "  def __init__(self, codigo):\n",
        "    self._codigo = codigo\n",
        "    self._saldo = 0\n",
        "    \n",
        "  def __eq__(self, outro):\n",
        "    return self._codigo == outro._codigo\n",
        "  \n",
        "  def deposita(self, valor):\n",
        "    self._saldo += valor\n",
        "    \n",
        "  def __str__(self):\n",
        "    return \"[>>Codigo {} Saldo {}<<]\".format(self._codigo, self._saldo)"
      ]
    },
    {
      "cell_type": "code",
      "execution_count": null,
      "metadata": {
        "colab": {
          "base_uri": "https://localhost:8080/",
          "height": 34
        },
        "colab_type": "code",
        "id": "IzpfHVyEQxEA",
        "outputId": "5cec0ebf-6841-4070-af70-bd9fe4b8d746"
      },
      "outputs": [
        {
          "data": {
            "text/plain": [
              "True"
            ]
          },
          "execution_count": 103,
          "metadata": {
            "tags": []
          },
          "output_type": "execute_result"
        }
      ],
      "source": [
        "conta1 = ContaSalario(37)\n",
        "conta2 = ContaSalario(37)\n",
        "conta1 == conta2"
      ]
    },
    {
      "cell_type": "code",
      "execution_count": null,
      "metadata": {
        "colab": {
          "base_uri": "https://localhost:8080/",
          "height": 34
        },
        "colab_type": "code",
        "id": "vj-hxUhPQ3iV",
        "outputId": "9e204b54-33e6-4cf6-a0a8-23a42c55b496"
      },
      "outputs": [
        {
          "data": {
            "text/plain": [
              "False"
            ]
          },
          "execution_count": 104,
          "metadata": {
            "tags": []
          },
          "output_type": "execute_result"
        }
      ],
      "source": [
        "conta1 != conta2"
      ]
    },
    {
      "cell_type": "code",
      "execution_count": null,
      "metadata": {
        "colab": {
          "base_uri": "https://localhost:8080/",
          "height": 34
        },
        "colab_type": "code",
        "id": "K-JAflTjQ6U7",
        "outputId": "c3732378-78fa-40c7-a5c5-c20562762fde"
      },
      "outputs": [
        {
          "data": {
            "text/plain": [
              "True"
            ]
          },
          "execution_count": 105,
          "metadata": {
            "tags": []
          },
          "output_type": "execute_result"
        }
      ],
      "source": [
        "conta1 in [conta2]"
      ]
    },
    {
      "cell_type": "code",
      "execution_count": null,
      "metadata": {
        "colab": {
          "base_uri": "https://localhost:8080/",
          "height": 34
        },
        "colab_type": "code",
        "id": "bK1dnfCNQ9Rj",
        "outputId": "f6925214-979e-4df7-82f2-92fcd5e34b81"
      },
      "outputs": [
        {
          "data": {
            "text/plain": [
              "True"
            ]
          },
          "execution_count": 106,
          "metadata": {
            "tags": []
          },
          "output_type": "execute_result"
        }
      ],
      "source": [
        "conta2 in [conta1]"
      ]
    },
    {
      "cell_type": "code",
      "execution_count": null,
      "metadata": {
        "colab": {},
        "colab_type": "code",
        "id": "uKuq2GGERfPz"
      },
      "outputs": [],
      "source": [
        "class ContaSalario:\n",
        "  \n",
        "  def __init__(self, codigo):\n",
        "    self._codigo = codigo\n",
        "    self._saldo = 0\n",
        "    \n",
        "  def __eq__(self, outro):\n",
        "    return self._codigo == outro._codigo and self._saldo == outro._saldo\n",
        "  \n",
        "  def deposita(self, valor):\n",
        "    self._saldo += valor\n",
        "    \n",
        "  def __str__(self):\n",
        "    return \"[>>Codigo {} Saldo {}<<]\".format(self._codigo, self._saldo)"
      ]
    },
    {
      "cell_type": "code",
      "execution_count": null,
      "metadata": {
        "colab": {
          "base_uri": "https://localhost:8080/",
          "height": 34
        },
        "colab_type": "code",
        "id": "DUCk7CPvRq_z",
        "outputId": "697cf85f-f201-4287-d5bd-295f65fcbb49"
      },
      "outputs": [
        {
          "data": {
            "text/plain": [
              "True"
            ]
          },
          "execution_count": 108,
          "metadata": {
            "tags": []
          },
          "output_type": "execute_result"
        }
      ],
      "source": [
        "conta1 = ContaSalario(37)\n",
        "conta2 = ContaSalario(37)\n",
        "conta1 == conta2"
      ]
    },
    {
      "cell_type": "code",
      "execution_count": null,
      "metadata": {
        "colab": {},
        "colab_type": "code",
        "id": "nKOhgztkRtD_"
      },
      "outputs": [],
      "source": [
        "conta1.deposita(10)"
      ]
    },
    {
      "cell_type": "code",
      "execution_count": null,
      "metadata": {
        "colab": {
          "base_uri": "https://localhost:8080/",
          "height": 34
        },
        "colab_type": "code",
        "id": "LaMlbvSsRulB",
        "outputId": "43e935c9-7a6a-48d2-b953-b38ab1097b7b"
      },
      "outputs": [
        {
          "data": {
            "text/plain": [
              "False"
            ]
          },
          "execution_count": 110,
          "metadata": {
            "tags": []
          },
          "output_type": "execute_result"
        }
      ],
      "source": [
        "conta1 == conta2"
      ]
    },
    {
      "cell_type": "code",
      "execution_count": null,
      "metadata": {
        "colab": {},
        "colab_type": "code",
        "id": "fcel97KHRwLM"
      },
      "outputs": [],
      "source": [
        "class ContaSalario:\n",
        "  \n",
        "  def __init__(self, codigo):\n",
        "    self._codigo = codigo\n",
        "    self._saldo = 0\n",
        "    \n",
        "  def __eq__(self, outro):\n",
        "    if type(outro) != ContaSalario:\n",
        "      return False\n",
        "    \n",
        "    return self._codigo == outro._codigo and self._saldo == outro._saldo\n",
        "  \n",
        "  def deposita(self, valor):\n",
        "    self._saldo += valor\n",
        "    \n",
        "  def __str__(self):\n",
        "    return \"[>>Codigo {} Saldo {}<<]\".format(self._codigo, self._saldo)"
      ]
    },
    {
      "cell_type": "code",
      "execution_count": null,
      "metadata": {
        "colab": {},
        "colab_type": "code",
        "id": "Rju6hGHyR799"
      },
      "outputs": [],
      "source": [
        "conta1 = ContaSalario(37)\n",
        "conta2 = ContaCorrente(37)"
      ]
    },
    {
      "cell_type": "code",
      "execution_count": null,
      "metadata": {
        "colab": {
          "base_uri": "https://localhost:8080/",
          "height": 34
        },
        "colab_type": "code",
        "id": "OXf4t_awSAHZ",
        "outputId": "61d72d80-1300-4417-d3d2-ffc50d8eb6b1"
      },
      "outputs": [
        {
          "data": {
            "text/plain": [
              "False"
            ]
          },
          "execution_count": 113,
          "metadata": {
            "tags": []
          },
          "output_type": "execute_result"
        }
      ],
      "source": [
        "conta1 == conta2"
      ]
    },
    {
      "cell_type": "code",
      "execution_count": null,
      "metadata": {
        "colab": {
          "base_uri": "https://localhost:8080/",
          "height": 34
        },
        "colab_type": "code",
        "id": "_f6JxtliS43P",
        "outputId": "9075ebdd-058c-4eef-aa08-3376c0754e0e"
      },
      "outputs": [
        {
          "data": {
            "text/plain": [
              "True"
            ]
          },
          "execution_count": 114,
          "metadata": {
            "tags": []
          },
          "output_type": "execute_result"
        }
      ],
      "source": [
        "isinstance(ContaCorrente(34), ContaCorrente)"
      ]
    },
    {
      "cell_type": "code",
      "execution_count": null,
      "metadata": {
        "colab": {
          "base_uri": "https://localhost:8080/",
          "height": 34
        },
        "colab_type": "code",
        "id": "-iOlWiRSTBtG",
        "outputId": "ce77fffa-0d4f-4237-dd51-0c96907dd18f"
      },
      "outputs": [
        {
          "data": {
            "text/plain": [
              "True"
            ]
          },
          "execution_count": 115,
          "metadata": {
            "tags": []
          },
          "output_type": "execute_result"
        }
      ],
      "source": [
        "isinstance(ContaCorrente(34), Conta)"
      ]
    },
    {
      "cell_type": "code",
      "execution_count": null,
      "metadata": {
        "colab": {
          "base_uri": "https://localhost:8080/",
          "height": 151
        },
        "colab_type": "code",
        "id": "wkvgURaRTEHb",
        "outputId": "e4f831d7-0f9a-447a-f00c-f951743cb86c"
      },
      "outputs": [
        {
          "name": "stdout",
          "output_type": "stream",
          "text": [
            "0 15\n",
            "1 87\n",
            "2 32\n",
            "3 65\n",
            "4 56\n",
            "5 32\n",
            "6 49\n",
            "7 37\n"
          ]
        }
      ],
      "source": [
        "idades = [15, 87, 32, 65, 56, 32, 49, 37]\n",
        "\n",
        "for i in range(len(idades)):\n",
        "  print(i, idades[i])"
      ]
    },
    {
      "cell_type": "code",
      "execution_count": null,
      "metadata": {
        "colab": {
          "base_uri": "https://localhost:8080/",
          "height": 34
        },
        "colab_type": "code",
        "id": "teWG2ppQPVkW",
        "outputId": "7c8cc862-7531-47a3-89d2-2222374f341c"
      },
      "outputs": [
        {
          "data": {
            "text/plain": [
              "range(0, 8)"
            ]
          },
          "execution_count": 124,
          "metadata": {
            "tags": []
          },
          "output_type": "execute_result"
        }
      ],
      "source": [
        "range(len(idades)) # lazy..."
      ]
    },
    {
      "cell_type": "code",
      "execution_count": null,
      "metadata": {
        "colab": {
          "base_uri": "https://localhost:8080/",
          "height": 34
        },
        "colab_type": "code",
        "id": "slGfOIt_QQq0",
        "outputId": "0a91f3ee-a8e7-49ad-f660-e10c2b43eaa6"
      },
      "outputs": [
        {
          "data": {
            "text/plain": [
              "<enumerate at 0x7f4846786a20>"
            ]
          },
          "execution_count": 125,
          "metadata": {
            "tags": []
          },
          "output_type": "execute_result"
        }
      ],
      "source": [
        "enumerate(idades) # lazy"
      ]
    },
    {
      "cell_type": "code",
      "execution_count": null,
      "metadata": {
        "colab": {
          "base_uri": "https://localhost:8080/",
          "height": 34
        },
        "colab_type": "code",
        "id": "uM5JsYdTQdPL",
        "outputId": "ce85d966-98c6-42b6-8872-d314fe32bd98"
      },
      "outputs": [
        {
          "data": {
            "text/plain": [
              "[0, 1, 2, 3, 4, 5, 6, 7]"
            ]
          },
          "execution_count": 126,
          "metadata": {
            "tags": []
          },
          "output_type": "execute_result"
        }
      ],
      "source": [
        "list(range(len(idades))) # forcei a geração dos valores"
      ]
    },
    {
      "cell_type": "code",
      "execution_count": null,
      "metadata": {
        "colab": {
          "base_uri": "https://localhost:8080/",
          "height": 34
        },
        "colab_type": "code",
        "id": "8bd7mFgeQr8r",
        "outputId": "dc74ba4a-382b-4dab-9410-c3403eb5ff21"
      },
      "outputs": [
        {
          "data": {
            "text/plain": [
              "[(0, 15), (1, 87), (2, 32), (3, 65), (4, 56), (5, 32), (6, 49), (7, 37)]"
            ]
          },
          "execution_count": 127,
          "metadata": {
            "tags": []
          },
          "output_type": "execute_result"
        }
      ],
      "source": [
        "list(enumerate(idades))"
      ]
    },
    {
      "cell_type": "code",
      "execution_count": null,
      "metadata": {
        "colab": {
          "base_uri": "https://localhost:8080/",
          "height": 151
        },
        "colab_type": "code",
        "id": "U-E2EpmZQwRA",
        "outputId": "b760a430-8f49-451a-ed88-5bb36d820606"
      },
      "outputs": [
        {
          "name": "stdout",
          "output_type": "stream",
          "text": [
            "0 x 15\n",
            "1 x 87\n",
            "2 x 32\n",
            "3 x 65\n",
            "4 x 56\n",
            "5 x 32\n",
            "6 x 49\n",
            "7 x 37\n"
          ]
        }
      ],
      "source": [
        "for indice, idade in enumerate(idades): # unpacking da nossa tupla\n",
        "  print(indice, \"x\", idade)"
      ]
    },
    {
      "cell_type": "code",
      "execution_count": null,
      "metadata": {
        "colab": {
          "base_uri": "https://localhost:8080/",
          "height": 67
        },
        "colab_type": "code",
        "id": "bthxc9NIQ8L5",
        "outputId": "ff13e8d8-ef31-4696-ea92-cf2497779169"
      },
      "outputs": [
        {
          "name": "stdout",
          "output_type": "stream",
          "text": [
            "Guilherme\n",
            "Daniela\n",
            "Paulo\n"
          ]
        }
      ],
      "source": [
        "usuarios = [\n",
        "    (\"Guilherme\", 37, 1981),\n",
        "    (\"Daniela\", 31, 1987),\n",
        "    (\"Paulo\", 39, 1979)\n",
        "]\n",
        "\n",
        "for nome, idade, nascimento in usuarios: # ja desempacotando\n",
        "  print(nome)"
      ]
    },
    {
      "cell_type": "code",
      "execution_count": null,
      "metadata": {
        "colab": {
          "base_uri": "https://localhost:8080/",
          "height": 67
        },
        "colab_type": "code",
        "id": "WHsr_vYGRe96",
        "outputId": "5ef86169-f5fa-4544-b98d-9861f3c95339"
      },
      "outputs": [
        {
          "name": "stdout",
          "output_type": "stream",
          "text": [
            "Guilherme\n",
            "Daniela\n",
            "Paulo\n"
          ]
        }
      ],
      "source": [
        "for nome, _, _ in usuarios: # ja desempacotando, ignorando o resto\n",
        "  print(nome)"
      ]
    },
    {
      "cell_type": "code",
      "execution_count": null,
      "metadata": {
        "colab": {
          "base_uri": "https://localhost:8080/",
          "height": 34
        },
        "colab_type": "code",
        "id": "Q88Ho2VMRt9c",
        "outputId": "f605be29-2b8a-4d8b-9394-062acf8274aa"
      },
      "outputs": [
        {
          "data": {
            "text/plain": [
              "[15, 87, 32, 65, 56, 32, 49, 37]"
            ]
          },
          "execution_count": 137,
          "metadata": {
            "tags": []
          },
          "output_type": "execute_result"
        }
      ],
      "source": [
        "idades"
      ]
    },
    {
      "cell_type": "code",
      "execution_count": null,
      "metadata": {
        "colab": {
          "base_uri": "https://localhost:8080/",
          "height": 34
        },
        "colab_type": "code",
        "id": "RBS1x92DTdVG",
        "outputId": "b7fe5707-91a1-42eb-a6f1-45663096229a"
      },
      "outputs": [
        {
          "data": {
            "text/plain": [
              "[15, 32, 32, 37, 49, 56, 65, 87]"
            ]
          },
          "execution_count": 138,
          "metadata": {
            "tags": []
          },
          "output_type": "execute_result"
        }
      ],
      "source": [
        "sorted(idades)"
      ]
    },
    {
      "cell_type": "code",
      "execution_count": null,
      "metadata": {
        "colab": {
          "base_uri": "https://localhost:8080/",
          "height": 34
        },
        "colab_type": "code",
        "id": "dZa-4cesThDT",
        "outputId": "5759503c-81e3-4b66-f1dc-c278a4600259"
      },
      "outputs": [
        {
          "data": {
            "text/plain": [
              "True"
            ]
          },
          "execution_count": 139,
          "metadata": {
            "tags": []
          },
          "output_type": "execute_result"
        }
      ],
      "source": [
        "15 < 32"
      ]
    },
    {
      "cell_type": "code",
      "execution_count": null,
      "metadata": {
        "colab": {
          "base_uri": "https://localhost:8080/",
          "height": 34
        },
        "colab_type": "code",
        "id": "EfDxGKtpTkVB",
        "outputId": "56c6dcae-344f-4397-a1f1-2e9bd7994550"
      },
      "outputs": [
        {
          "data": {
            "text/plain": [
              "[37, 49, 32, 56, 65, 32, 87, 15]"
            ]
          },
          "execution_count": 141,
          "metadata": {
            "tags": []
          },
          "output_type": "execute_result"
        }
      ],
      "source": [
        "list(reversed(idades))"
      ]
    },
    {
      "cell_type": "code",
      "execution_count": null,
      "metadata": {
        "colab": {
          "base_uri": "https://localhost:8080/",
          "height": 34
        },
        "colab_type": "code",
        "id": "xhAx1_VoTpIn",
        "outputId": "a75641d5-db7d-42ac-f2eb-c43c90e8bfbc"
      },
      "outputs": [
        {
          "data": {
            "text/plain": [
              "[87, 65, 56, 49, 37, 32, 32, 15]"
            ]
          },
          "execution_count": 142,
          "metadata": {
            "tags": []
          },
          "output_type": "execute_result"
        }
      ],
      "source": [
        "sorted(idades, reverse=True)"
      ]
    },
    {
      "cell_type": "code",
      "execution_count": null,
      "metadata": {
        "colab": {
          "base_uri": "https://localhost:8080/",
          "height": 34
        },
        "colab_type": "code",
        "id": "vvUe1ZeGT1Xv",
        "outputId": "e74bd27d-fc0c-4aeb-96c2-53e9f267b3f9"
      },
      "outputs": [
        {
          "data": {
            "text/plain": [
              "[87, 65, 56, 49, 37, 32, 32, 15]"
            ]
          },
          "execution_count": 143,
          "metadata": {
            "tags": []
          },
          "output_type": "execute_result"
        }
      ],
      "source": [
        "list(reversed(sorted(idades)))"
      ]
    },
    {
      "cell_type": "code",
      "execution_count": null,
      "metadata": {
        "colab": {
          "base_uri": "https://localhost:8080/",
          "height": 34
        },
        "colab_type": "code",
        "id": "BD_fC3QhT-bp",
        "outputId": "3440393e-934b-42d8-a379-6c4ea7f9b2a0"
      },
      "outputs": [
        {
          "data": {
            "text/plain": [
              "[15, 87, 32, 65, 56, 32, 49, 37]"
            ]
          },
          "execution_count": 144,
          "metadata": {
            "tags": []
          },
          "output_type": "execute_result"
        }
      ],
      "source": [
        "idades"
      ]
    },
    {
      "cell_type": "code",
      "execution_count": null,
      "metadata": {
        "colab": {},
        "colab_type": "code",
        "id": "xXdvHfgFUKIW"
      },
      "outputs": [],
      "source": [
        "idades.sort()"
      ]
    },
    {
      "cell_type": "code",
      "execution_count": null,
      "metadata": {
        "colab": {
          "base_uri": "https://localhost:8080/",
          "height": 34
        },
        "colab_type": "code",
        "id": "ELmqTUwBURvN",
        "outputId": "3f2d11c9-6bdf-4a45-9d4b-41e41bd61862"
      },
      "outputs": [
        {
          "data": {
            "text/plain": [
              "[15, 32, 32, 37, 49, 56, 65, 87]"
            ]
          },
          "execution_count": 146,
          "metadata": {
            "tags": []
          },
          "output_type": "execute_result"
        }
      ],
      "source": [
        "idades"
      ]
    },
    {
      "cell_type": "code",
      "execution_count": null,
      "metadata": {
        "colab": {
          "base_uri": "https://localhost:8080/",
          "height": 34
        },
        "colab_type": "code",
        "id": "ANBu0i7bUTaS",
        "outputId": "3b063318-ed79-4e20-84ff-89a64986cc5c"
      },
      "outputs": [
        {
          "data": {
            "text/plain": [
              "True"
            ]
          },
          "execution_count": 147,
          "metadata": {
            "tags": []
          },
          "output_type": "execute_result"
        }
      ],
      "source": [
        "15 < 32"
      ]
    },
    {
      "cell_type": "code",
      "execution_count": null,
      "metadata": {
        "colab": {
          "base_uri": "https://localhost:8080/",
          "height": 34
        },
        "colab_type": "code",
        "id": "XMkcq5npW6l0",
        "outputId": "a56d6c56-fb55-45c9-c05c-372d779e1ba5"
      },
      "outputs": [
        {
          "data": {
            "text/plain": [
              "['Daniela', 'Paulo', 'guilherme']"
            ]
          },
          "execution_count": 149,
          "metadata": {
            "tags": []
          },
          "output_type": "execute_result"
        }
      ],
      "source": [
        "nomes = [\"guilherme\", \"Daniela\", \"Paulo\"]\n",
        "sorted(nomes)"
      ]
    },
    {
      "cell_type": "code",
      "execution_count": null,
      "metadata": {
        "colab": {},
        "colab_type": "code",
        "id": "GY1J-7CjXBJD"
      },
      "outputs": [],
      "source": [
        "class ContaSalario:\n",
        "  \n",
        "  def __init__(self, codigo):\n",
        "    self._codigo = codigo\n",
        "    self._saldo = 0\n",
        "    \n",
        "  def __eq__(self, outro):\n",
        "    if type(outro) != ContaSalario:\n",
        "      return False\n",
        "    \n",
        "    return self._codigo == outro._codigo and self._saldo == outro._saldo\n",
        "  \n",
        "  def deposita(self, valor):\n",
        "    self._saldo += valor\n",
        "    \n",
        "  def __str__(self):\n",
        "    return \"[>>Codigo {} Saldo {}<<]\".format(self._codigo, self._saldo)"
      ]
    },
    {
      "cell_type": "code",
      "execution_count": null,
      "metadata": {
        "colab": {},
        "colab_type": "code",
        "id": "ypUrLl8TXXyj"
      },
      "outputs": [],
      "source": [
        "conta_do_guilherme = ContaSalario(17)\n",
        "conta_do_guilherme.deposita(500)\n",
        "\n",
        "conta_da_daniela = ContaSalario(3)\n",
        "conta_da_daniela.deposita(1000)\n",
        "\n",
        "conta_do_paulo = ContaSalario(133)\n",
        "conta_do_paulo.deposita(510)\n",
        "\n",
        "contas = [conta_do_guilherme, conta_da_daniela, conta_do_paulo]\n"
      ]
    },
    {
      "cell_type": "code",
      "execution_count": null,
      "metadata": {
        "colab": {
          "base_uri": "https://localhost:8080/",
          "height": 67
        },
        "colab_type": "code",
        "id": "jH9ZCZRcXoqD",
        "outputId": "38f1ef61-8083-46ee-d80e-cde858b0075a"
      },
      "outputs": [
        {
          "name": "stdout",
          "output_type": "stream",
          "text": [
            "[>>Codigo 17 Saldo 500<<]\n",
            "[>>Codigo 3 Saldo 1000<<]\n",
            "[>>Codigo 133 Saldo 510<<]\n"
          ]
        }
      ],
      "source": [
        "for conta in contas:\n",
        "  print(conta)"
      ]
    },
    {
      "cell_type": "code",
      "execution_count": null,
      "metadata": {
        "colab": {
          "base_uri": "https://localhost:8080/",
          "height": 162
        },
        "colab_type": "code",
        "id": "v_BFTG8VXsa3",
        "outputId": "dcfcd8d6-f83c-4acd-9beb-e8a4a057ee61"
      },
      "outputs": [
        {
          "ename": "TypeError",
          "evalue": "ignored",
          "output_type": "error",
          "traceback": [
            "\u001b[0;31m---------------------------------------------------------------------------\u001b[0m",
            "\u001b[0;31mTypeError\u001b[0m                                 Traceback (most recent call last)",
            "\u001b[0;32m<ipython-input-153-df7230969aa4>\u001b[0m in \u001b[0;36m<module>\u001b[0;34m()\u001b[0m\n\u001b[0;32m----> 1\u001b[0;31m \u001b[0msorted\u001b[0m\u001b[0;34m(\u001b[0m\u001b[0mcontas\u001b[0m\u001b[0;34m)\u001b[0m\u001b[0;34m\u001b[0m\u001b[0;34m\u001b[0m\u001b[0m\n\u001b[0m",
            "\u001b[0;31mTypeError\u001b[0m: '<' not supported between instances of 'ContaSalario' and 'ContaSalario'"
          ]
        }
      ],
      "source": [
        "sorted(contas)"
      ]
    },
    {
      "cell_type": "code",
      "execution_count": null,
      "metadata": {
        "colab": {
          "base_uri": "https://localhost:8080/",
          "height": 162
        },
        "colab_type": "code",
        "id": "XdcpgSNJXvEU",
        "outputId": "015154ff-65ef-4766-a790-5b38edd4e15b"
      },
      "outputs": [
        {
          "ename": "TypeError",
          "evalue": "ignored",
          "output_type": "error",
          "traceback": [
            "\u001b[0;31m---------------------------------------------------------------------------\u001b[0m",
            "\u001b[0;31mTypeError\u001b[0m                                 Traceback (most recent call last)",
            "\u001b[0;32m<ipython-input-154-23ebe804144a>\u001b[0m in \u001b[0;36m<module>\u001b[0;34m()\u001b[0m\n\u001b[0;32m----> 1\u001b[0;31m \u001b[0mconta_do_guilherme\u001b[0m \u001b[0;34m<\u001b[0m \u001b[0mconta_da_daniela\u001b[0m\u001b[0;34m\u001b[0m\u001b[0;34m\u001b[0m\u001b[0m\n\u001b[0m",
            "\u001b[0;31mTypeError\u001b[0m: '<' not supported between instances of 'ContaSalario' and 'ContaSalario'"
          ]
        }
      ],
      "source": [
        "conta_do_guilherme < conta_da_daniela"
      ]
    },
    {
      "cell_type": "code",
      "execution_count": null,
      "metadata": {
        "colab": {
          "base_uri": "https://localhost:8080/",
          "height": 67
        },
        "colab_type": "code",
        "id": "OhsBBipRXy_3",
        "outputId": "f3ebeda7-2f0b-4f9a-e230-64a14ef5ffee"
      },
      "outputs": [
        {
          "name": "stdout",
          "output_type": "stream",
          "text": [
            "[>>Codigo 17 Saldo 500<<]\n",
            "[>>Codigo 133 Saldo 510<<]\n",
            "[>>Codigo 3 Saldo 1000<<]\n"
          ]
        }
      ],
      "source": [
        "def extrai_saldo(conta):\n",
        "  return conta._saldo\n",
        "\n",
        "for conta in sorted(contas, key=extrai_saldo):\n",
        "  print(conta)"
      ]
    },
    {
      "cell_type": "code",
      "execution_count": null,
      "metadata": {
        "colab": {
          "base_uri": "https://localhost:8080/",
          "height": 67
        },
        "colab_type": "code",
        "id": "kCKRcXDSYEtq",
        "outputId": "c1ba43da-c7d3-4ea7-8288-40aacc410807"
      },
      "outputs": [
        {
          "name": "stdout",
          "output_type": "stream",
          "text": [
            "[>>Codigo 17 Saldo 500<<]\n",
            "[>>Codigo 133 Saldo 510<<]\n",
            "[>>Codigo 3 Saldo 1000<<]\n"
          ]
        }
      ],
      "source": [
        "from operator import attrgetter\n",
        "\n",
        "for conta in sorted(contas, key=attrgetter(\"_saldo\")):\n",
        "  print(conta)"
      ]
    },
    {
      "cell_type": "code",
      "execution_count": null,
      "metadata": {
        "colab": {
          "base_uri": "https://localhost:8080/",
          "height": 162
        },
        "colab_type": "code",
        "id": "UsL-b59zY3Dm",
        "outputId": "fde615de-3c26-4a92-8bed-0d665a4a7120"
      },
      "outputs": [
        {
          "ename": "TypeError",
          "evalue": "ignored",
          "output_type": "error",
          "traceback": [
            "\u001b[0;31m---------------------------------------------------------------------------\u001b[0m",
            "\u001b[0;31mTypeError\u001b[0m                                 Traceback (most recent call last)",
            "\u001b[0;32m<ipython-input-158-23ebe804144a>\u001b[0m in \u001b[0;36m<module>\u001b[0;34m()\u001b[0m\n\u001b[0;32m----> 1\u001b[0;31m \u001b[0mconta_do_guilherme\u001b[0m \u001b[0;34m<\u001b[0m \u001b[0mconta_da_daniela\u001b[0m\u001b[0;34m\u001b[0m\u001b[0;34m\u001b[0m\u001b[0m\n\u001b[0m",
            "\u001b[0;31mTypeError\u001b[0m: '<' not supported between instances of 'ContaSalario' and 'ContaSalario'"
          ]
        }
      ],
      "source": [
        "conta_do_guilherme < conta_da_daniela"
      ]
    },
    {
      "cell_type": "code",
      "execution_count": null,
      "metadata": {
        "colab": {},
        "colab_type": "code",
        "id": "jgp_S6MUZfjg"
      },
      "outputs": [],
      "source": [
        "class ContaSalario:\n",
        "  \n",
        "  def __init__(self, codigo):\n",
        "    self._codigo = codigo\n",
        "    self._saldo = 0\n",
        "    \n",
        "  def __eq__(self, outro):\n",
        "    if type(outro) != ContaSalario:\n",
        "      return False\n",
        "    \n",
        "    return self._codigo == outro._codigo and self._saldo == outro._saldo\n",
        "  \n",
        "  def __lt__(self, outro):\n",
        "    return self._saldo < outro._saldo\n",
        "  \n",
        "  def deposita(self, valor):\n",
        "    self._saldo += valor\n",
        "    \n",
        "  def __str__(self):\n",
        "    return \"[>>Codigo {} Saldo {}<<]\".format(self._codigo, self._saldo)"
      ]
    },
    {
      "cell_type": "code",
      "execution_count": null,
      "metadata": {
        "colab": {},
        "colab_type": "code",
        "id": "mBxLnoi7Z0X8"
      },
      "outputs": [],
      "source": [
        "conta_do_guilherme = ContaSalario(17)\n",
        "conta_do_guilherme.deposita(500)\n",
        "\n",
        "conta_da_daniela = ContaSalario(3)\n",
        "conta_da_daniela.deposita(1000)\n",
        "\n",
        "conta_do_paulo = ContaSalario(133)\n",
        "conta_do_paulo.deposita(510)\n",
        "\n",
        "contas = [conta_do_guilherme, conta_da_daniela, conta_do_paulo]"
      ]
    },
    {
      "cell_type": "code",
      "execution_count": null,
      "metadata": {
        "colab": {
          "base_uri": "https://localhost:8080/",
          "height": 34
        },
        "colab_type": "code",
        "id": "DKC8IbUXZ3ba",
        "outputId": "10cfb93f-1679-4488-aa65-9a1ba2a3ff2d"
      },
      "outputs": [
        {
          "data": {
            "text/plain": [
              "True"
            ]
          },
          "execution_count": 164,
          "metadata": {
            "tags": []
          },
          "output_type": "execute_result"
        }
      ],
      "source": [
        "conta_do_guilherme < conta_da_daniela"
      ]
    },
    {
      "cell_type": "code",
      "execution_count": null,
      "metadata": {
        "colab": {
          "base_uri": "https://localhost:8080/",
          "height": 34
        },
        "colab_type": "code",
        "id": "VapSefIQZ5L6",
        "outputId": "78da76a9-94d8-47b1-bb3a-5ff40eb9e99b"
      },
      "outputs": [
        {
          "data": {
            "text/plain": [
              "False"
            ]
          },
          "execution_count": 165,
          "metadata": {
            "tags": []
          },
          "output_type": "execute_result"
        }
      ],
      "source": [
        "conta_do_guilherme > conta_da_daniela"
      ]
    },
    {
      "cell_type": "code",
      "execution_count": null,
      "metadata": {
        "colab": {
          "base_uri": "https://localhost:8080/",
          "height": 67
        },
        "colab_type": "code",
        "id": "2X0aZOSvaFov",
        "outputId": "6999bf7d-e3a9-49d8-9395-fd918cc12678"
      },
      "outputs": [
        {
          "name": "stdout",
          "output_type": "stream",
          "text": [
            "[>>Codigo 17 Saldo 500<<]\n",
            "[>>Codigo 133 Saldo 510<<]\n",
            "[>>Codigo 3 Saldo 1000<<]\n"
          ]
        }
      ],
      "source": [
        "for conta in sorted(contas):\n",
        "  print(conta)"
      ]
    },
    {
      "cell_type": "code",
      "execution_count": null,
      "metadata": {
        "colab": {
          "base_uri": "https://localhost:8080/",
          "height": 67
        },
        "colab_type": "code",
        "id": "EGqfqsxuaO8e",
        "outputId": "ba4847d4-e533-4c91-b011-f24cbf6a01a8"
      },
      "outputs": [
        {
          "name": "stdout",
          "output_type": "stream",
          "text": [
            "[>>Codigo 3 Saldo 1000<<]\n",
            "[>>Codigo 133 Saldo 510<<]\n",
            "[>>Codigo 17 Saldo 500<<]\n"
          ]
        }
      ],
      "source": [
        "for conta in sorted(contas,reverse=True):\n",
        "  print(conta)"
      ]
    },
    {
      "cell_type": "code",
      "execution_count": null,
      "metadata": {
        "colab": {},
        "colab_type": "code",
        "id": "uuZE8o18aYyI"
      },
      "outputs": [],
      "source": [
        "conta_do_guilherme = ContaSalario(1700)\n",
        "conta_do_guilherme.deposita(500)\n",
        "\n",
        "conta_da_daniela = ContaSalario(3)\n",
        "conta_da_daniela.deposita(1000)\n",
        "\n",
        "conta_do_paulo = ContaSalario(133)\n",
        "conta_do_paulo.deposita(500)\n",
        "\n",
        "contas = [conta_do_guilherme, conta_da_daniela, conta_do_paulo]"
      ]
    },
    {
      "cell_type": "code",
      "execution_count": null,
      "metadata": {
        "colab": {
          "base_uri": "https://localhost:8080/",
          "height": 67
        },
        "colab_type": "code",
        "id": "UG8jMjSfbDH1",
        "outputId": "62278048-7f0d-4ed9-a396-9c9147e5c2d7"
      },
      "outputs": [
        {
          "name": "stdout",
          "output_type": "stream",
          "text": [
            "[>>Codigo 133 Saldo 500<<]\n",
            "[>>Codigo 1700 Saldo 500<<]\n",
            "[>>Codigo 3 Saldo 1000<<]\n"
          ]
        }
      ],
      "source": [
        "for conta in sorted(contas, key=attrgetter(\"_saldo\", \"_codigo\")):\n",
        "  print(conta)"
      ]
    },
    {
      "cell_type": "code",
      "execution_count": null,
      "metadata": {
        "colab": {},
        "colab_type": "code",
        "id": "Cs60uZo9bLQK"
      },
      "outputs": [],
      "source": [
        "conta_do_guilherme = ContaSalario(1700)\n",
        "conta_do_guilherme.deposita(500)\n",
        "\n",
        "conta_da_daniela = ContaSalario(3)\n",
        "conta_da_daniela.deposita(500)\n",
        "\n",
        "conta_do_paulo = ContaSalario(133)\n",
        "conta_do_paulo.deposita(500)\n",
        "\n",
        "contas = [conta_do_guilherme, conta_da_daniela, conta_do_paulo]"
      ]
    },
    {
      "cell_type": "code",
      "execution_count": null,
      "metadata": {
        "colab": {
          "base_uri": "https://localhost:8080/",
          "height": 67
        },
        "colab_type": "code",
        "id": "zlkNJTrtbQ8l",
        "outputId": "ec9dfa0d-afa2-41af-a7e7-e1de37e08e66"
      },
      "outputs": [
        {
          "name": "stdout",
          "output_type": "stream",
          "text": [
            "[>>Codigo 3 Saldo 500<<]\n",
            "[>>Codigo 133 Saldo 500<<]\n",
            "[>>Codigo 1700 Saldo 500<<]\n"
          ]
        }
      ],
      "source": [
        "for conta in sorted(contas, key=attrgetter(\"_saldo\", \"_codigo\")):\n",
        "  print(conta)"
      ]
    },
    {
      "cell_type": "code",
      "execution_count": null,
      "metadata": {
        "colab": {},
        "colab_type": "code",
        "id": "5w_KeGY6bSDw"
      },
      "outputs": [],
      "source": [
        "class ContaSalario:\n",
        "  \n",
        "  def __init__(self, codigo):\n",
        "    self._codigo = codigo\n",
        "    self._saldo = 0\n",
        "    \n",
        "  def __eq__(self, outro):\n",
        "    if type(outro) != ContaSalario:\n",
        "      return False\n",
        "    \n",
        "    return self._codigo == outro._codigo and self._saldo == outro._saldo\n",
        "  \n",
        "  def __lt__(self, outro):\n",
        "    if self._saldo != outro._saldo:\n",
        "      return self._saldo < outro._saldo\n",
        "    \n",
        "    return self._codigo < outro._codigo\n",
        "  \n",
        "  def deposita(self, valor):\n",
        "    self._saldo += valor\n",
        "    \n",
        "  def __str__(self):\n",
        "    return \"[>>Codigo {} Saldo {}<<]\".format(self._codigo, self._saldo)"
      ]
    },
    {
      "cell_type": "code",
      "execution_count": null,
      "metadata": {
        "colab": {},
        "colab_type": "code",
        "id": "5DCRSx88bnXq"
      },
      "outputs": [],
      "source": [
        "conta_do_guilherme = ContaSalario(1700)\n",
        "conta_do_guilherme.deposita(500)\n",
        "\n",
        "conta_da_daniela = ContaSalario(3)\n",
        "conta_da_daniela.deposita(500)\n",
        "\n",
        "conta_do_paulo = ContaSalario(133)\n",
        "conta_do_paulo.deposita(500)\n",
        "\n",
        "contas = [conta_do_guilherme, conta_da_daniela, conta_do_paulo]"
      ]
    },
    {
      "cell_type": "code",
      "execution_count": null,
      "metadata": {
        "colab": {
          "base_uri": "https://localhost:8080/",
          "height": 67
        },
        "colab_type": "code",
        "id": "TRN9ky9tbpDw",
        "outputId": "f39a84bc-279a-4fda-dafb-8bdd5505a437"
      },
      "outputs": [
        {
          "name": "stdout",
          "output_type": "stream",
          "text": [
            "[>>Codigo 3 Saldo 500<<]\n",
            "[>>Codigo 133 Saldo 500<<]\n",
            "[>>Codigo 1700 Saldo 500<<]\n"
          ]
        }
      ],
      "source": [
        "for conta in sorted(contas):\n",
        "  print(conta)"
      ]
    },
    {
      "cell_type": "code",
      "execution_count": null,
      "metadata": {
        "colab": {},
        "colab_type": "code",
        "id": "wzlJbZ0jbqx-"
      },
      "outputs": [],
      "source": [
        "conta_do_guilherme = ContaSalario(1700)\n",
        "conta_do_guilherme.deposita(500)\n",
        "\n",
        "conta_da_daniela = ContaSalario(3)\n",
        "conta_da_daniela.deposita(1000)\n",
        "\n",
        "conta_do_paulo = ContaSalario(133)\n",
        "conta_do_paulo.deposita(500)\n",
        "\n",
        "contas = [conta_do_guilherme, conta_da_daniela, conta_do_paulo]"
      ]
    },
    {
      "cell_type": "code",
      "execution_count": null,
      "metadata": {
        "colab": {
          "base_uri": "https://localhost:8080/",
          "height": 68
        },
        "colab_type": "code",
        "id": "NsRuM7rubw4H",
        "outputId": "1f9d336c-7a61-46b6-b22e-ee7fa4a3ba91"
      },
      "outputs": [
        {
          "name": "stdout",
          "output_type": "stream",
          "text": [
            "[>>Codigo 133 Saldo 500<<]\n",
            "[>>Codigo 1700 Saldo 500<<]\n",
            "[>>Codigo 3 Saldo 1000<<]\n"
          ]
        }
      ],
      "source": [
        "for conta in sorted(contas):\n",
        "  print(conta)"
      ]
    },
    {
      "cell_type": "code",
      "execution_count": null,
      "metadata": {
        "colab": {
          "base_uri": "https://localhost:8080/",
          "height": 34
        },
        "colab_type": "code",
        "id": "-gREheLibxnA",
        "outputId": "98f50672-36a4-42a0-9159-94fc250d9e5f"
      },
      "outputs": [
        {
          "data": {
            "text/plain": [
              "True"
            ]
          },
          "execution_count": 180,
          "metadata": {
            "tags": []
          },
          "output_type": "execute_result"
        }
      ],
      "source": [
        "conta_do_guilherme < conta_da_daniela"
      ]
    },
    {
      "cell_type": "code",
      "execution_count": null,
      "metadata": {
        "colab": {
          "base_uri": "https://localhost:8080/",
          "height": 164
        },
        "colab_type": "code",
        "id": "9Yj2CeEbb8pn",
        "outputId": "58914526-dbaf-4d55-a799-f5cb1dab17e9"
      },
      "outputs": [
        {
          "ename": "TypeError",
          "evalue": "ignored",
          "output_type": "error",
          "traceback": [
            "\u001b[0;31m---------------------------------------------------------------------------\u001b[0m",
            "\u001b[0;31mTypeError\u001b[0m                                 Traceback (most recent call last)",
            "\u001b[0;32m<ipython-input-181-5f6d4259fd98>\u001b[0m in \u001b[0;36m<module>\u001b[0;34m()\u001b[0m\n\u001b[0;32m----> 1\u001b[0;31m \u001b[0mconta_do_guilherme\u001b[0m \u001b[0;34m<=\u001b[0m \u001b[0mconta_da_daniela\u001b[0m\u001b[0;34m\u001b[0m\u001b[0;34m\u001b[0m\u001b[0m\n\u001b[0m",
            "\u001b[0;31mTypeError\u001b[0m: '<=' not supported between instances of 'ContaSalario' and 'ContaSalario'"
          ]
        }
      ],
      "source": [
        "conta_do_guilherme <= conta_da_daniela"
      ]
    },
    {
      "cell_type": "code",
      "execution_count": null,
      "metadata": {
        "colab": {},
        "colab_type": "code",
        "id": "mbQ6vpXpb_oK"
      },
      "outputs": [],
      "source": [
        "from functools import total_ordering\n",
        "\n",
        "@total_ordering\n",
        "class ContaSalario:\n",
        "  \n",
        "  def __init__(self, codigo):\n",
        "    self._codigo = codigo\n",
        "    self._saldo = 0\n",
        "    \n",
        "  def __eq__(self, outro):\n",
        "    if type(outro) != ContaSalario:\n",
        "      return False\n",
        "    \n",
        "    return self._codigo == outro._codigo and self._saldo == outro._saldo\n",
        "  \n",
        "  def __lt__(self, outro):\n",
        "    if self._saldo != outro._saldo:\n",
        "      return self._saldo < outro._saldo\n",
        "    \n",
        "    return self._codigo < outro._codigo\n",
        "  \n",
        "  def deposita(self, valor):\n",
        "    self._saldo += valor\n",
        "    \n",
        "  def __str__(self):\n",
        "    return \"[>>Codigo {} Saldo {}<<]\".format(self._codigo, self._saldo)"
      ]
    },
    {
      "cell_type": "code",
      "execution_count": null,
      "metadata": {
        "colab": {},
        "colab_type": "code",
        "id": "0hhSsyPEclqP"
      },
      "outputs": [],
      "source": [
        "conta_do_guilherme = ContaSalario(1700)\n",
        "conta_do_guilherme.deposita(500)\n",
        "\n",
        "conta_da_daniela = ContaSalario(3)\n",
        "conta_da_daniela.deposita(1000)\n",
        "\n",
        "conta_do_paulo = ContaSalario(133)\n",
        "conta_do_paulo.deposita(500)\n",
        "\n",
        "contas = [conta_do_guilherme, conta_da_daniela, conta_do_paulo]"
      ]
    },
    {
      "cell_type": "code",
      "execution_count": null,
      "metadata": {
        "colab": {
          "base_uri": "https://localhost:8080/",
          "height": 34
        },
        "colab_type": "code",
        "id": "NQ3txWbpcnum",
        "outputId": "01fe733f-f633-4684-f925-b53e7f21ef63"
      },
      "outputs": [
        {
          "data": {
            "text/plain": [
              "True"
            ]
          },
          "execution_count": 184,
          "metadata": {
            "tags": []
          },
          "output_type": "execute_result"
        }
      ],
      "source": [
        "conta_do_guilherme <= conta_da_daniela"
      ]
    },
    {
      "cell_type": "code",
      "execution_count": null,
      "metadata": {
        "colab": {
          "base_uri": "https://localhost:8080/",
          "height": 34
        },
        "colab_type": "code",
        "id": "aDBEhYOUcptW",
        "outputId": "1bb3f2e3-7cdd-4cb8-f5f2-d6a1b0d683c3"
      },
      "outputs": [
        {
          "data": {
            "text/plain": [
              "False"
            ]
          },
          "execution_count": 185,
          "metadata": {
            "tags": []
          },
          "output_type": "execute_result"
        }
      ],
      "source": [
        "conta_do_guilherme <= conta_do_paulo"
      ]
    },
    {
      "cell_type": "code",
      "execution_count": null,
      "metadata": {
        "colab": {
          "base_uri": "https://localhost:8080/",
          "height": 34
        },
        "colab_type": "code",
        "id": "2D33p5NNcsCZ",
        "outputId": "2c0e1645-4cf2-4e13-cdd6-2cc2b383be34"
      },
      "outputs": [
        {
          "data": {
            "text/plain": [
              "False"
            ]
          },
          "execution_count": 186,
          "metadata": {
            "tags": []
          },
          "output_type": "execute_result"
        }
      ],
      "source": [
        "conta_do_guilherme < conta_do_guilherme"
      ]
    },
    {
      "cell_type": "code",
      "execution_count": null,
      "metadata": {
        "colab": {
          "base_uri": "https://localhost:8080/",
          "height": 34
        },
        "colab_type": "code",
        "id": "5G8oXMKncv6O",
        "outputId": "81f3c7b7-8c0e-4d1e-aef3-8ae7f3e14b0e"
      },
      "outputs": [
        {
          "data": {
            "text/plain": [
              "True"
            ]
          },
          "execution_count": 187,
          "metadata": {
            "tags": []
          },
          "output_type": "execute_result"
        }
      ],
      "source": [
        "conta_do_guilherme == conta_do_guilherme"
      ]
    },
    {
      "cell_type": "code",
      "execution_count": null,
      "metadata": {
        "colab": {
          "base_uri": "https://localhost:8080/",
          "height": 34
        },
        "colab_type": "code",
        "id": "E5dVyMl0cx6l",
        "outputId": "4167de10-1170-4a0d-a363-1360ee1eb0b1"
      },
      "outputs": [
        {
          "data": {
            "text/plain": [
              "True"
            ]
          },
          "execution_count": 188,
          "metadata": {
            "tags": []
          },
          "output_type": "execute_result"
        }
      ],
      "source": [
        "conta_do_guilherme <= conta_do_guilherme"
      ]
    },
    {
      "cell_type": "code",
      "execution_count": null,
      "metadata": {
        "colab": {},
        "colab_type": "code",
        "id": "gcLEEwKBc1Sn"
      },
      "outputs": [],
      "source": []
    }
  ],
  "metadata": {
    "colab": {
      "collapsed_sections": [],
      "name": "Introdução a Collections",
      "provenance": [],
      "version": "0.3.2"
    },
    "kernelspec": {
      "display_name": "Python 3",
      "name": "python3"
    },
    "language_info": {
      "codemirror_mode": {
        "name": "ipython",
        "version": 3
      },
      "file_extension": ".py",
      "mimetype": "text/x-python",
      "name": "python",
      "nbconvert_exporter": "python",
      "pygments_lexer": "ipython3",
      "version": "3.9.2"
    }
  },
  "nbformat": 4,
  "nbformat_minor": 0
}
